{
 "cells": [
  {
   "cell_type": "code",
   "execution_count": 1,
   "id": "bf426c78-e3d4-4ad4-b79d-52ce466d592a",
   "metadata": {},
   "outputs": [],
   "source": [
    "import pandas as pd"
   ]
  },
  {
   "cell_type": "code",
   "execution_count": 2,
   "id": "7b5f9632-ac6a-4417-884d-e00695fbf61e",
   "metadata": {},
   "outputs": [],
   "source": [
    "## Set-up\n",
    "import requests\n",
    "import json\n",
    "\n",
    "# Insert activated key\n",
    "key = '1b5678a1a374e17f9c32c8981fbe81d8f437edc7'"
   ]
  },
  {
   "cell_type": "code",
   "execution_count": 3,
   "id": "e0ccb2f7-270f-43ae-93b8-fc1ba017560c",
   "metadata": {},
   "outputs": [],
   "source": [
    "## Specify variables for API call\n",
    "pop_variables = ['P2_001N', # Total\n",
    "                 'P2_002N', # Total Hipsanic or Latino\n",
    "                 'P2_003N', # Total not Hispanic or Latino\n",
    "                 'P2_004N', # Total not Hispanic or Latino, population of one race\n",
    "                 'P2_005N', # Total not Hispanic or Latino, population of one race, White alone\n",
    "                 'P2_006N', # Total not Hispanic or Latino, population of one race, Black alone\n",
    "                 'P2_007N', # Total not Hispanic or Latino, population of one race, American Indian and Alaska Native alone\n",
    "                 'P2_008N', # Total not Hispanic or Latino, population of one race, Asian alone\n",
    "                 'P2_009N', # Total not Hispanic or Latino, population of one race, Native Hawaiian and Other Pacific Islander alone\n",
    "                 'P2_010N', # Total not Hispanic or Latino, population of one race, some other race alone\n",
    "                 'P2_011N'] # Total not Hispanic or Latino, population of two or more races\n",
    "\n",
    "# Concatenate into single string to feed into url\n",
    "pop_variables_str = ','.join(pop_variables)"
   ]
  },
  {
   "cell_type": "code",
   "execution_count": 4,
   "id": "291d1b1c-5819-4e9b-9483-a6d627510e04",
   "metadata": {},
   "outputs": [],
   "source": [
    "def get_census_pop_data(year):\n",
    "    ## Specify URL, inserting population variables and activation key\n",
    "    url = f'https://api.census.gov/data/{year}/dec/pl?get=NAME,{pop_variables_str}&for=county:*&key={key}'\n",
    "\n",
    "    ## Store response\n",
    "    data = requests.get(url)\n",
    "\n",
    "    ## Check response\n",
    "    if data.status_code == 200:\n",
    "        print('Status code:', data.status_code, '- OK')\n",
    "    else:\n",
    "        print('Status code:', data.status_code, '- ERROR')\n",
    "        \n",
    "    ## Store API response in a variable\n",
    "    available_data = data.json()\n",
    "\n",
    "    ## Create dataframe\n",
    "    census2020_pop_race = pd.DataFrame(available_data[1:], columns = available_data[0])\n",
    "    census2020_pop_race['FIPS'] = census2020_pop_race['state'] + census2020_pop_race['county']\n",
    "    census2020_pop_race = census2020_pop_race.drop(columns = ['state', 'county'])\n",
    "    for var in pop_variables:\n",
    "        census2020_pop_race[var] = pd.to_numeric(census2020_pop_race[var])\n",
    "    \n",
    "    ## Return dataframe\n",
    "    return census2020_pop_race"
   ]
  },
  {
   "cell_type": "code",
   "execution_count": null,
   "id": "a6e96fab-7340-41ee-a881-14fd2a5b0237",
   "metadata": {},
   "outputs": [],
   "source": []
  }
 ],
 "metadata": {
  "kernelspec": {
   "display_name": "Python 3",
   "language": "python",
   "name": "python3"
  },
  "language_info": {
   "codemirror_mode": {
    "name": "ipython",
    "version": 3
   },
   "file_extension": ".py",
   "mimetype": "text/x-python",
   "name": "python",
   "nbconvert_exporter": "python",
   "pygments_lexer": "ipython3",
   "version": "3.8.8"
  }
 },
 "nbformat": 4,
 "nbformat_minor": 5
}
