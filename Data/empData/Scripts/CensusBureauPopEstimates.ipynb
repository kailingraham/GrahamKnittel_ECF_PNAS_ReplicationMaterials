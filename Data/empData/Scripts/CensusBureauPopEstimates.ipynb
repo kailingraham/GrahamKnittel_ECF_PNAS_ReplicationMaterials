{
 "cells": [
  {
   "cell_type": "code",
   "execution_count": 1,
   "id": "fb0a5356-0384-4673-b167-d14396085a52",
   "metadata": {},
   "outputs": [],
   "source": [
    "import pandas as pd"
   ]
  },
  {
   "cell_type": "code",
   "execution_count": 2,
   "id": "917029d7-40a3-4899-9965-02d2180d2474",
   "metadata": {},
   "outputs": [],
   "source": [
    "## Set-up\n",
    "import requests\n",
    "import json\n",
    "\n",
    "# Insert activated key\n",
    "key = '1b5678a1a374e17f9c32c8981fbe81d8f437edc7'"
   ]
  },
  {
   "cell_type": "code",
   "execution_count": 36,
   "id": "9f1787f9-2882-451f-8d69-75b31a7e9648",
   "metadata": {},
   "outputs": [],
   "source": [
    "def get_pop_estimate(year, geography, specific_area=None):\n",
    "    '''\n",
    "    Function to pull Census Bureau population estimates for non-census years.\n",
    "    \n",
    "    Parameters\n",
    "    ----------\n",
    "    year : int. The year for which you want to get population estimates.\n",
    "    geography : str. The geographic granularity of the estimate. Options:\n",
    "        'us' : returns national population estimate.\n",
    "        'state' : returns state population estimates.\n",
    "        'county' : returns county estimates.\n",
    "    specific_area : str. Either 2-digit state FIPS code or 5-digit county FIPS code. If None, will return all areas within the geography.\n",
    "    '''\n",
    "    if year%10 == 0:\n",
    "        print(year,'is a Census year. Use CensusBureau.ipynb instead for more accurate population estimates.')\n",
    "        return\n",
    "    \n",
    "    ## Specify URL\n",
    "    if specific_area == None:\n",
    "        specific_area = ['*', '*']\n",
    "    elif len(specific_area) == 5:\n",
    "        specific_area = [specific_area[2:], specific_area[:2]]\n",
    "    elif len(specific_area) == 2:\n",
    "        specific_area = ['*', specific_area]\n",
    "    else:\n",
    "        raise ValueError('specific_area should be 2-digit state FIPS code, 5-digit county FIPS code, or None.')\n",
    "        \n",
    "    if geography == 'county':\n",
    "        geography = f'county:{specific_area[0]}&in=state:{specific_area[1]}'\n",
    "    elif geography == 'state':\n",
    "        geography = f'state:{specific_area[1]}'\n",
    "    \n",
    "    url = f'http://api.census.gov/data/{year}/pep/population?get=POP,GEONAME&for={geography}&key={key}'\n",
    "    \n",
    "    ## Store response\n",
    "    data = requests.get(url)\n",
    "\n",
    "    ## Check response\n",
    "    if data.status_code == 200:\n",
    "        print('Status code:', data.status_code, '- OK')\n",
    "    else:\n",
    "        print('Status code:', data.status_code, '- ERROR')\n",
    "        \n",
    "    ## Store API response in a variable\n",
    "    available_data = data.json()\n",
    "\n",
    "    ## Create dataframe\n",
    "    pop_est = pd.DataFrame(available_data[1:], columns = available_data[0])\n",
    "    pop_est['POP'] = pd.to_numeric(pop_est['POP']) \n",
    "    \n",
    "    ## Return dataframe\n",
    "    return pop_est"
   ]
  }
 ],
 "metadata": {
  "kernelspec": {
   "display_name": "Python 3",
   "language": "python",
   "name": "python3"
  },
  "language_info": {
   "codemirror_mode": {
    "name": "ipython",
    "version": 3
   },
   "file_extension": ".py",
   "mimetype": "text/x-python",
   "name": "python",
   "nbconvert_exporter": "python",
   "pygments_lexer": "ipython3",
   "version": "3.8.16"
  }
 },
 "nbformat": 4,
 "nbformat_minor": 5
}
