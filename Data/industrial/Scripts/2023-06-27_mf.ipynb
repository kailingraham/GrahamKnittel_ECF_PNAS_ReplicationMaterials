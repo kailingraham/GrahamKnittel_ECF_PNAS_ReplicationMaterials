{
 "cells": [
  {
   "attachments": {},
   "cell_type": "markdown",
   "id": "1ee57b55-c450-4f19-9111-20f176b751c0",
   "metadata": {
    "tags": []
   },
   "source": [
    "# 0 Set-up"
   ]
  },
  {
   "cell_type": "code",
   "execution_count": null,
   "id": "19627f40-e0f3-4753-8a4a-a1cc4a318638",
   "metadata": {},
   "outputs": [],
   "source": [
    "import pandas as pd\n",
    "import numpy as np\n",
    "import matplotlib.pyplot as plt\n",
    "import plotly.express as px\n",
    "\n",
    "# Load in a GeoJSON file containing the geometry information for US counties, where feature.id is a FIPS code.\n",
    "from urllib.request import urlopen\n",
    "import json\n",
    "with urlopen('https://raw.githubusercontent.com/plotly/datasets/master/geojson-counties-fips.json') as response:\n",
    "    counties = json.load(response)\n",
    "\n",
    "# Read in NREL IET dataset\n",
    "county_energy_estimates_IEDB = pd.read_csv(\n",
    "    '../Input/county_energy_estimates_IEDB.gzip',\n",
    "    dtype={'FIPSTATE': str, 'COUNTY_FIPS': str, 'MECS_FT': str, 'NAICS': str}\n",
    ")\n",
    "county_energy_estimates_IEDB['FIPSTATE'] = county_energy_estimates_IEDB['FIPSTATE'].apply(\n",
    "    lambda x: '0' + x[:-2] if len(x) == 3 else x[:-2])\n",
    "county_energy_estimates_IEDB['COUNTY_FIPS'] = county_energy_estimates_IEDB['COUNTY_FIPS'].apply(\n",
    "    lambda x: '0' + x[:-2] if len(x) == 6 else x[:-2])\n",
    "county_energy_estimates_IEDB = county_energy_estimates_IEDB.rename(\n",
    "    columns={'COUNTY_FIPS': 'FIPS'})\n",
    "\n",
    "# Keep entries from the most recent year\n",
    "county_energy_estimates_IEDB = county_energy_estimates_IEDB[\n",
    "    county_energy_estimates_IEDB['YEAR'] == 2016]\n",
    "\n",
    "# Read in county fips labels [NOTE: this file has been edited from that used in other code to ensure county names and their formatting match]\n",
    "fips = pd.read_csv(\n",
    "    '../Temp/fips_edited.csv',\n",
    "    encoding='windows-1252',\n",
    "    usecols=[1, 2, 3, 4],\n",
    "    names=['FIPS', 'County', 'State Name', 'State'],\n",
    "    dtype={'FIPS': str}\n",
    ")\n",
    "fips['County'] = fips['County'].str.lower()\n",
    "\n",
    "# Read in NAICS codebook from https://www.census.gov/naics/?48967 (use 2012 codes as data is from 2016)\n",
    "NAICS_codebook = pd.read_excel(\n",
    "    '../Input/2-digit_2012_Codes.xls',\n",
    "    header=0,\n",
    "    usecols=[1, 2],\n",
    "    dtype={'2012 NAICS US   Code': str}\n",
    ")\n",
    "NAICS_codebook = NAICS_codebook.drop(0).rename(\n",
    "    columns={'2012 NAICS US   Code': 'NAICS', '2012 NAICS US Title': 'NAICS_desc'})\n",
    "\n",
    "# Merge county names onto dataframe\n",
    "county_energy_estimates_IEDB = county_energy_estimates_IEDB.merge(\n",
    "    fips[['FIPS', 'County']], how='left', on='FIPS'\n",
    ")\n",
    "\n",
    "# Replace FIPS 02270 Wade hampton (AK) with 02158 Kusilvak, and 46113 Shannon with 46102 Oglala lakota, according to July 2015 changes\n",
    "for i in np.arange(len(county_energy_estimates_IEDB)):\n",
    "    if county_energy_estimates_IEDB.loc[i, 'FIPS'] == '02270':\n",
    "        county_energy_estimates_IEDB.loc[i, 'FIPS'] = '02158'\n",
    "        county_energy_estimates_IEDB.loc[i, 'County'] = 'kusilvak'\n",
    "    elif county_energy_estimates_IEDB.loc[i, 'FIPS'] == '46113':\n",
    "        county_energy_estimates_IEDB.loc[i, 'FIPS'] = '46102'\n",
    "        county_energy_estimates_IEDB.loc[i, 'County'] = 'oglala lakota'\n",
    "    elif county_energy_estimates_IEDB.loc[i, 'FIPS'] == '46102':\n",
    "        county_energy_estimates_IEDB.loc[i, 'County'] = 'oglala lakota'"
   ]
  },
  {
   "cell_type": "code",
   "execution_count": null,
   "id": "d7d52886-3596-4027-b7cc-1dcac663ddb5",
   "metadata": {},
   "outputs": [],
   "source": [
    "# Assess duplication in data\n",
    "init_datapoints = len(county_energy_estimates_IEDB)\n",
    "print('There are',\n",
    "      len(county_energy_estimates_IEDB[\n",
    "          county_energy_estimates_IEDB[['FIPS', 'NAICS', 'MECS_FT']].duplicated()]),\n",
    "      'FIPS-NAICS-FUEL combos with more than entry for MMBTU consumed. Need to group these.')\n",
    "\n",
    "# Group data\n",
    "county_energy_estimates_IEDB = county_energy_estimates_IEDB.groupby(\n",
    "    by=[col for col in county_energy_estimates_IEDB.columns if col not in ['MMBTU_TOTAL']],\n",
    "    as_index=False).sum().reset_index(drop=True)\n",
    "final_datapoints = len(county_energy_estimates_IEDB)\n",
    "print('Duplicate datapoints removed:', init_datapoints - final_datapoints)\n",
    "\n",
    "# Reassess duplicates\n",
    "if len(county_energy_estimates_IEDB[\n",
    "        county_energy_estimates_IEDB[['FIPS', 'NAICS', 'MECS_FT']].duplicated()]) == 0:\n",
    "    print('After grouping, there are no more duplicated datapoints. Proceed.')\n",
    "else:\n",
    "    print('After grouping, there are still',\n",
    "          len(county_energy_estimates_IEDB[county_energy_estimates_IEDB[[\n",
    "              'FIPS', 'NAICS', 'MECS_FT']].duplicated()]),\n",
    "          'duplicated datapoints. Reassess.')"
   ]
  },
  {
   "cell_type": "code",
   "execution_count": null,
   "id": "c7f9e7dc-9d86-495f-bd4b-795b331e8dde",
   "metadata": {},
   "outputs": [],
   "source": [
    "## Assess these duplicated datapoints individually.\n",
    "county_energy_estimates_IEDB[county_energy_estimates_IEDB[['FIPS', 'NAICS', 'MECS_FT']].duplicated(keep = False)]"
   ]
  },
  {
   "attachments": {},
   "cell_type": "markdown",
   "id": "b307535b-e49b-432f-b914-54a4f8e25104",
   "metadata": {},
   "source": [
    "It seems that there was some errors in the Mining datapoints where the wrong state was listed for a given FIPS. Manually overwrite these."
   ]
  },
  {
   "cell_type": "code",
   "execution_count": null,
   "id": "dd76221e-6ab3-4eec-a1df-bb0e1d7d6b2e",
   "metadata": {},
   "outputs": [],
   "source": [
    "overwrite_indices = [320348, 320349, 502288, 854619]\n",
    "correct_states = ['TEXAS', 'TEXAS', 'TEXAS', 'PENNSYLVANIA']\n",
    "\n",
    "for i in range(len(overwrite_indices)):\n",
    "    county_energy_estimates_IEDB.loc[overwrite_indices[i],'FIPSTATE'] = county_energy_estimates_IEDB.loc[overwrite_indices[i],'FIPS'][:2]\n",
    "    county_energy_estimates_IEDB.loc[overwrite_indices[i],'STATE'] = correct_states[i]\n",
    "    \n",
    "county_energy_estimates_IEDB.loc[overwrite_indices, :]"
   ]
  },
  {
   "cell_type": "code",
   "execution_count": null,
   "id": "45a444ee-8ff7-43e2-8b7d-40f69b7e496a",
   "metadata": {},
   "outputs": [],
   "source": [
    "# Group data again\n",
    "county_energy_estimates_IEDB = county_energy_estimates_IEDB.groupby(\n",
    "    by=[col for col in county_energy_estimates_IEDB.columns if col not in ['MMBTU_TOTAL']],\n",
    "    as_index=False).sum().reset_index(drop=True)\n",
    "print('Duplicate datapoints removed:', final_datapoints -\n",
    "      len(county_energy_estimates_IEDB))\n",
    "\n",
    "# Reassess duplicates\n",
    "if len(county_energy_estimates_IEDB[\n",
    "        county_energy_estimates_IEDB[['FIPS', 'NAICS', 'MECS_FT']].duplicated()]) == 0:\n",
    "    print('After grouping, there are no more duplicated datapoints. Proceed.')\n",
    "else:\n",
    "    print('After grouping, there are still',\n",
    "          len(county_energy_estimates_IEDB[\n",
    "              county_energy_estimates_IEDB[['FIPS', 'NAICS', 'MECS_FT']].duplicated()]),\n",
    "          'duplicated datapoints. Reassess.')"
   ]
  },
  {
   "cell_type": "code",
   "execution_count": null,
   "id": "b1efc6ff-1557-4907-8c0c-427a5457a125",
   "metadata": {},
   "outputs": [],
   "source": [
    "# Split data into industrial sectors covered\n",
    "county_IEDB_mf = county_energy_estimates_IEDB[\n",
    "    county_energy_estimates_IEDB['IND_SECTOR'] == 'Manufacturing'].reset_index(drop=True)\n",
    "county_IEDB_mining = county_energy_estimates_IEDB[\n",
    "    county_energy_estimates_IEDB['IND_SECTOR'] == 'Mining'].reset_index(drop=True)\n",
    "county_IEDB_agri = county_energy_estimates_IEDB[\n",
    "    county_energy_estimates_IEDB['IND_SECTOR'] == 'Agriculture'].reset_index(drop=True)\n",
    "county_IEDB_constr = county_energy_estimates_IEDB[\n",
    "    county_energy_estimates_IEDB['IND_SECTOR'] == 'Construction'].reset_index(drop=True)"
   ]
  },
  {
   "attachments": {},
   "cell_type": "markdown",
   "id": "2313d99c-54ac-4377-8118-221ea89255fd",
   "metadata": {},
   "source": [
    "# 1 Manufacturing energy consumption from IEDB"
   ]
  },
  {
   "cell_type": "code",
   "execution_count": null,
   "id": "adfa8c1a-9c2a-4965-abe5-acece4eb1d2d",
   "metadata": {},
   "outputs": [],
   "source": [
    "# Remove NAICS codes that don't belong\n",
    "county_IEDB_mf['Drop?'] = county_IEDB_mf.apply(\n",
    "    lambda x: 1 if x.NAICS[0] != '3' else 0, axis=1)\n",
    "county_IEDB_mf = county_IEDB_mf[county_IEDB_mf['Drop?'] != 1].drop(\n",
    "    columns='Drop?')\n",
    "\n",
    "# Group manufacturing data by 4-digit NAICS code instead of 6-digit,\n",
    "# as employment data is only available at the 4-digit level\n",
    "county_IEDB_mf['NAICS_4dig'] = county_IEDB_mf['NAICS'].apply(lambda x: x[:4])\n",
    "county_IEDB_mf_4dig = county_IEDB_mf.groupby(\n",
    "    by=['FIPSTATE', 'FIPS', 'County', 'MECS_FT',\n",
    "        'YEAR', 'STATE', 'IND_SECTOR', 'NAICS_4dig'],\n",
    "    as_index=False).sum()\n",
    "\n",
    "county_IEDB_mf['NAICS_3dig'] = county_IEDB_mf['NAICS'].apply(lambda x: x[:3])\n",
    "county_IEDB_mf_3dig = county_IEDB_mf.groupby(\n",
    "    by=['FIPSTATE', 'FIPS', 'County', 'MECS_FT',\n",
    "        'YEAR', 'STATE', 'IND_SECTOR', 'NAICS_3dig'],\n",
    "    as_index=False).sum()"
   ]
  },
  {
   "attachments": {},
   "cell_type": "markdown",
   "id": "53768a39-7aa6-4ae2-9bd4-2522d1191fac",
   "metadata": {
    "tags": []
   },
   "source": [
    "# 2 Calculate emissions from manufacturing energy consumption\n",
    "Make sure to use 6-digit NAICS codes for calculation so that emissions can be aggregated later. At the end of this section, should have 9 dataframes:\n",
    "1. Dataframe of the CO2e emissions from a given fuel type for a given 6-digit NAICS code in a given county.\n",
    "2. Dataframe of the Scope 1 and 2 (i.e. on-site and electricity consumption) CO2e emissions for a given 6-digit NAICS code in a given county.\n",
    "3. Dataframe of the total CO2e emissions from a given 6-digit NAICS code in a given county.\n",
    "4. Dataframe of the CO2e emissions from a given fuel type for 3-/4-digit NAICS granularity--depending on 'sectors_to_aggregate'--for a given county.\n",
    "5. Dataframe of the Scope 1 and 2 CO2e emissions for 3-/4-digit NAICS granularity--depending on 'sectors_to_aggregate'--for a given county.\n",
    "6. Dataframe of the total CO2e emissions for 3-/4-digit NAICS granularity--depending on 'sectors_to_aggregate'--for a given county.\n",
    "7. Dataframe of the CO2e emissions from a given fuel type for all of manufacturing (NAICS 31-33) in a given county.\n",
    "8. Dataframe of the Scope 1 and 2 CO2e emissions for all of manufacturing in a given county.\n",
    "9. Dataframe of the total CO2e emissions for all manufacturing in a given county.\n",
    "\n",
    "Calculations for dataframes 2-9 should be conducted using dataframe 1 to minimize error propagation.\n",
    "\n",
    "\n",
    "<b>Naming convention:</b> county_mf_[NAICS_GRANULARITY]_['fuels'/'scopes'/'totals]_CO2e .  E.g. For 6-digit Scope 1 and 2 emissions: county_mf_6dig_scopes_CO2e. For aggregated total emissions: county_mf_agg_totals_CO2e."
   ]
  },
  {
   "attachments": {},
   "cell_type": "markdown",
   "id": "75561da2-d36d-4722-8091-209a11e5e6e3",
   "metadata": {},
   "source": [
    "## 2.1 Calculate emissions at 6-digit NAICS level for different fuel types"
   ]
  },
  {
   "attachments": {},
   "cell_type": "markdown",
   "id": "60cc0fd4-c06f-4880-8931-1faec014a7ab",
   "metadata": {},
   "source": [
    "IEDB gives energy consumption in MMBTU. Can use the following emissions factors to determine the associated CO2e emissions for each fuel type:\n",
    "- Oil (assumed crude oil): 74.47 million metric tons CO2 per quadrillion Btu (https://www.eia.gov/environment/emissions/co2_vol_mass.php - scroll to bottom and download \"Detailed factors\" Excel sheet)\n",
    "- Natural gas: 116.65 lbCO2e per MMBtu (https://www.eia.gov/environment/emissions/co2_vol_mass.php)\n",
    "- Coal: 211.87 lbCO2e per MMBtu (https://www.eia.gov/environment/emissions/co2_vol_mass.php)\n",
    "- Diesel: 163.45 lbCO2e per MMBtu (https://www.eia.gov/environment/emissions/co2_vol_mass.php)\n",
    "- LPG_NGL (interpret this as 'propane'): 138.63 lbCO2e per MMBtu (https://www.eia.gov/environment/emissions/co2_vol_mass.php)\n",
    "- Residual fuel oil: 165.55 lbCO2e per MMBtu (https://www.eia.gov/environment/emissions/co2_vol_mass.php)\n",
    "- Coke and breeze: Use 'Coke' under coals by type: 250.59 lbCO2e per MMBtu (https://www.eia.gov/environment/emissions/co2_vol_mass.php)\n",
    "- 'Other' - assume to be LPG as done in the NREL IET documentation (https://www.nrel.gov/docs/fy19osti/71990.pdf, pg. 14)\n",
    "- Net electricity: Use eGRID 2016 electricity carbon intensity at the eGRID subregion level (see 'countyElecIntensity.ipynb')"
   ]
  },
  {
   "attachments": {},
   "cell_type": "markdown",
   "id": "6136f456-1ad9-4a5c-9d2d-bc3ce615a3b6",
   "metadata": {},
   "source": [
    "Note that for the 'Net_electricity' fuel type, given that this is *net* electricity consumed, sites with cogeneration that export power to the grid will have a lower energy consumption figure than the total amount of electricity they actually drew from the grid (net = consumed - produced). This means that, without additional data separating consumption and production of electricity, it is impossible to truly ascertain a given plant's Scope 2 carbon emissions. Given this restriction, we will assume that all positive net electricity consumption figures in the data describe true electricity consumption.<br>\n",
    "There is some interplay here with the industrial plants that are registered as power plants in the fossil fuel power plant data analysis that may result in some double counting. For now, assume that this double counting is negligible."
   ]
  },
  {
   "cell_type": "code",
   "execution_count": null,
   "id": "33e59177-50f3-428b-a62c-ac67da637bcf",
   "metadata": {},
   "outputs": [],
   "source": [
    "# Read in electricity carbon intensity and merge onto manufacturing energy consumption data\n",
    "counties_elec_intensity = pd.read_csv(\n",
    "    '../Temp/counties_elec_intensity.csv',\n",
    "    dtype={'id': str, 'STATE': str, 'COUNTY': str}\n",
    ").drop(columns='Unnamed: 0')\n",
    "counties_elec_intensity = counties_elec_intensity.rename(\n",
    "    columns={'id': 'FIPS'})\n",
    "\n",
    "county_mf_6dig_fuels_CO2e = pd.merge(\n",
    "    county_IEDB_mf,\n",
    "    counties_elec_intensity[['FIPS', 'SUBRGN', 'SRC2ERTA']],\n",
    "    how='left',\n",
    "    on='FIPS'\n",
    ")\n",
    "county_mf_6dig_fuels_CO2e = county_mf_6dig_fuels_CO2e.rename(\n",
    "    columns={'SRC2ERTA': 'lbCO2e_perMWh_elec'})\n",
    "\n",
    "# Calculate emissions for each county-NAICS-fuel combo (i.e. each row) using the above emissions factors\n",
    "#  Define a dictionary containing all the remaining emissions intensities (aside from electricity)\n",
    "ef_dict = {'Diesel': 163.45,\n",
    "           'LPG_NGL': 138.63,\n",
    "           'Natural_gas': 116.65,\n",
    "           'Other': 138.63,\n",
    "           'Residual_fuel_oil': 165.55,\n",
    "           'Coal': 211.87,\n",
    "           'Coke_and_breeze': 250.59,\n",
    "           }\n",
    "#  Define a function that reads fuel type of each entry and performs the appropraite calculation\n",
    "def calculate_emissions(fuel_type, ef_dict, mmbtu_total, elec_ef):\n",
    "    if fuel_type == 'Net_electricity':\n",
    "        lbCO2e = mmbtu_total * elec_ef * 0.29307107  # MWh/MMBtu\n",
    "    else:\n",
    "        lbCO2e = mmbtu_total * ef_dict[fuel_type]\n",
    "    return lbCO2e\n",
    "\n",
    "\n",
    "#  Apply function across entire dataframe\n",
    "county_mf_6dig_fuels_CO2e['lbCO2e'] = county_mf_6dig_fuels_CO2e.apply(\n",
    "    lambda x: calculate_emissions(x.MECS_FT, ef_dict, x.MMBTU_TOTAL, x.lbCO2e_perMWh_elec), axis=1)\n",
    "county_mf_6dig_fuels_CO2e['tonCO2e'] = county_mf_6dig_fuels_CO2e['lbCO2e'] / 2000"
   ]
  },
  {
   "attachments": {},
   "cell_type": "markdown",
   "id": "bd5ebf11-a8c8-4c0b-8601-7f161230c55f",
   "metadata": {},
   "source": [
    "### 2.1.1 Add field for tonCO2e_[fueltype] for each fuel type\n",
    "This will allow us to determine the percent of the total emissions attributable to each fuel type, for all sorts of different aggregations that we perform later. This will be particularly useful for calculating the economic burden later on, as the incidence of a carbon tax will depend on the fuel used to produce the CO2."
   ]
  },
  {
   "cell_type": "code",
   "execution_count": null,
   "id": "c75d7176-82e6-4e01-a136-aea769babbca",
   "metadata": {},
   "outputs": [],
   "source": [
    "# Make lists of columns to group by for different aggregations\n",
    "group_cols_6dig_totals = [col for col in county_mf_6dig_fuels_CO2e.columns\n",
    "                          if col not in ['YEAR', 'SUBRGN', 'lbCO2e_perMWh_elec',\n",
    "                                         'MECS_FT', 'IND_SECTOR', 'MMBTU_TOTAL',\n",
    "                                         'lbCO2e', 'tonCO2e']]\n",
    "group_cols_6dig_scopes = [\n",
    "    col for col in group_cols_6dig_totals if col not in ['MECS_FT']] + ['scope']\n",
    "group_cols_6dig_fuels = group_cols_6dig_totals + ['MECS_FT']\n",
    "\n",
    "group_cols_agg_fuels = [\n",
    "    col for col in group_cols_6dig_fuels if col not in ['NAICS_4dig', 'NAICS_3dig']]\n",
    "group_cols_agg_scopes = [col for col in group_cols_6dig_scopes if col not in [\n",
    "    'NAICS_4dig', 'NAICS_3dig']]\n",
    "group_cols_agg_totals = [col for col in group_cols_6dig_totals if col not in [\n",
    "    'NAICS_4dig', 'NAICS_3dig']]\n",
    "\n",
    "group_cols_2dig_fuels = [col for col in group_cols_6dig_fuels if col not in [\n",
    "    'NAICS', 'NAICS_4dig', 'NAICS_3dig']]\n",
    "group_cols_2dig_scopes = [col for col in group_cols_6dig_scopes if col not in [\n",
    "    'NAICS', 'NAICS_4dig', 'NAICS_3dig']]\n",
    "group_cols_2dig_totals = [col for col in group_cols_6dig_totals if col not in [\n",
    "    'NAICS', 'NAICS_4dig', 'NAICS_3dig']]\n",
    "\n",
    "# Create new column for emissions corresponding to ach fuel type\n",
    "for fuel in county_mf_6dig_fuels_CO2e.MECS_FT.unique():\n",
    "    county_mf_6dig_fuels_CO2e[f'tonCO2e_{fuel}'] = county_mf_6dig_fuels_CO2e.apply(\n",
    "        lambda x: x.tonCO2e if x.MECS_FT == fuel else np.nan, axis=1)\n",
    "\n",
    "# Drop unnecessary columns\n",
    "county_mf_6dig_fuels_CO2e = county_mf_6dig_fuels_CO2e.drop(\n",
    "    columns=['YEAR', 'lbCO2e_perMWh_elec'])"
   ]
  },
  {
   "attachments": {},
   "cell_type": "markdown",
   "id": "83c10a88-8e33-49f5-8a91-12079b35161d",
   "metadata": {},
   "source": [
    "## 2.2 Scope 1 and 2 emissions at 6-digit NAICS granularity"
   ]
  },
  {
   "cell_type": "code",
   "execution_count": null,
   "id": "c056577c-999c-47f5-b08e-70a4472399ef",
   "metadata": {},
   "outputs": [],
   "source": [
    "# Group emissions into Scope 1 and Scope 2\n",
    "#  Add scope column to diff fuel df\n",
    "county_mf_6dig_fuels_CO2e['scope'] = county_mf_6dig_fuels_CO2e.apply(\n",
    "    lambda x: 'scope2' if x.MECS_FT == 'Net_electricity' else 'scope1', axis=1)\n",
    "\n",
    "#  Group scopes dataframe by scope\n",
    "county_mf_6dig_scopes_CO2e = county_mf_6dig_fuels_CO2e.groupby(\n",
    "    by=group_cols_6dig_scopes, as_index=False).sum()"
   ]
  },
  {
   "attachments": {},
   "cell_type": "markdown",
   "id": "ed75186b-45b1-478e-bc8a-82ca1f5b003c",
   "metadata": {},
   "source": [
    "## 2.3 Total emissions at 6-digit NAICS granularity"
   ]
  },
  {
   "cell_type": "code",
   "execution_count": null,
   "id": "7be53629-320b-45d9-bd22-bf2edc1b9cb7",
   "metadata": {},
   "outputs": [],
   "source": [
    "county_mf_6dig_totals_CO2e = county_mf_6dig_fuels_CO2e.groupby(\n",
    "    by=group_cols_6dig_totals, as_index=False).sum()"
   ]
  },
  {
   "attachments": {},
   "cell_type": "markdown",
   "id": "9d0b1fa3-9d0e-4bcd-93b4-3523bfb6079e",
   "metadata": {},
   "source": [
    "## 2.4 Emissions for different fuel types at 3-/4-digit NAICS granularity"
   ]
  },
  {
   "cell_type": "code",
   "execution_count": null,
   "id": "54b6dc2b-4cc9-4aa6-9897-5194bc960685",
   "metadata": {},
   "outputs": [],
   "source": [
    "# IF WANT TO ADD MORE GRANULARITY, COMMENT OUT LAST 3 NAICS CODES ON TOP ROW\n",
    "sectors_to_aggregate = ['311', '331', '324', '326',\n",
    "                        '312', '336', '327', '325',\n",
    "                        '313', '314', '315', '316',\n",
    "                        '321', '322', '323', '332',\n",
    "                        '333', '334', '335', '337', '339']\n",
    "\n",
    "# Aggregate energy consumption and emissions to 3-digit NAICS code for the identified sectors\n",
    "#  3-digit\n",
    "county_IEDB_mf_emissions_3dig = county_mf_6dig_fuels_CO2e[\n",
    "    county_mf_6dig_fuels_CO2e['NAICS_3dig'].isin(sectors_to_aggregate)]\n",
    "county_IEDB_mf_emissions_3dig = county_IEDB_mf_emissions_3dig.groupby(\n",
    "    by=['FIPSTATE', 'FIPS', 'STATE', 'County', 'MECS_FT', 'NAICS_3dig', 'scope'],\n",
    "    as_index=False).sum().rename(columns={'NAICS_3dig': 'NAICS'})\n",
    "county_IEDB_mf_emissions_3dig_allfuels = county_IEDB_mf_emissions_3dig.groupby(\n",
    "    by=['FIPSTATE', 'FIPS', 'STATE', 'County', 'NAICS'], as_index=False).sum()\n",
    "\n",
    "#  4-digit\n",
    "county_IEDB_mf_emissions_4dig = county_mf_6dig_fuels_CO2e[~(\n",
    "    county_mf_6dig_fuels_CO2e['NAICS_3dig'].isin(sectors_to_aggregate))]\n",
    "county_IEDB_mf_emissions_4dig = county_IEDB_mf_emissions_4dig.groupby(\n",
    "    by=['FIPSTATE', 'FIPS', 'STATE', 'County', 'MECS_FT', 'NAICS_4dig', 'scope'],\n",
    "    as_index=False).sum().rename(columns={'NAICS_4dig': 'NAICS'})\n",
    "county_IEDB_mf_emissions_4dig_allfuels = county_IEDB_mf_emissions_4dig.groupby(\n",
    "    by=['FIPSTATE', 'FIPS', 'STATE', 'County', 'NAICS'], as_index=False).sum()\n",
    "\n",
    "#  Re-join 3- and 4-digit aggregations\n",
    "county_mf_agg_fuels_CO2e = pd.concat([county_IEDB_mf_emissions_3dig,\n",
    "                                      county_IEDB_mf_emissions_4dig],\n",
    "                                     ignore_index=True)"
   ]
  },
  {
   "attachments": {},
   "cell_type": "markdown",
   "id": "c06fa8ef-b7a7-4472-957a-2165580bd8e0",
   "metadata": {},
   "source": [
    "## 2.5 Scope 1 and 2 emissions at 3-/4-digit NAICS granularity"
   ]
  },
  {
   "cell_type": "code",
   "execution_count": null,
   "id": "107df8cd-939a-433a-ba79-2c23ac5b95ea",
   "metadata": {},
   "outputs": [],
   "source": [
    "county_mf_agg_scopes_CO2e = county_mf_agg_fuels_CO2e.groupby(\n",
    "    by=group_cols_agg_scopes, as_index=False).sum()\n",
    "# write to csv for decomposition analysis\n",
    "county_mf_agg_scopes_CO2e.to_csv('../Temp/county_mf_agg_scopes_CO2e.csv')"
   ]
  },
  {
   "attachments": {},
   "cell_type": "markdown",
   "id": "53218def-4cc2-4fd5-ade0-7c67cea0fd41",
   "metadata": {},
   "source": [
    "## 2.6 Total emissions at 3-/4-digit NAICS granularity"
   ]
  },
  {
   "cell_type": "code",
   "execution_count": null,
   "id": "1eb639a9-f563-4d98-9668-23664b976cc0",
   "metadata": {},
   "outputs": [],
   "source": [
    "county_mf_agg_totals_CO2e = pd.concat([county_IEDB_mf_emissions_3dig_allfuels,\n",
    "                                       county_IEDB_mf_emissions_4dig_allfuels],\n",
    "                                      ignore_index=True)\n",
    "county_mf_agg_totals_CO2e['lbCO2e_log10'] = np.log10(\n",
    "    county_mf_agg_totals_CO2e['lbCO2e'])"
   ]
  },
  {
   "attachments": {},
   "cell_type": "markdown",
   "id": "a581a28b-a1fa-46cf-b368-1b56121538ab",
   "metadata": {},
   "source": [
    "## 2.7 Emissions for different fuel types for all manufacturing"
   ]
  },
  {
   "cell_type": "code",
   "execution_count": null,
   "id": "2666905d-1f33-4843-a10a-996724b63441",
   "metadata": {},
   "outputs": [],
   "source": [
    "county_mf_2dig_fuels_CO2e = county_mf_6dig_fuels_CO2e.groupby(by=group_cols_2dig_fuels,\n",
    "                                                              as_index=False).sum()"
   ]
  },
  {
   "attachments": {},
   "cell_type": "markdown",
   "id": "3d79dba1-5d9f-49dd-80ac-3eae0a28848a",
   "metadata": {},
   "source": [
    "## 2.8 Scope 1 and 2 emissions for all manufacturing"
   ]
  },
  {
   "cell_type": "code",
   "execution_count": null,
   "id": "7503c5e9-e0c5-4683-a49c-69b51451f2cd",
   "metadata": {},
   "outputs": [],
   "source": [
    "county_mf_2dig_scopes_CO2e = county_mf_6dig_fuels_CO2e.groupby(by=group_cols_2dig_scopes,\n",
    "                                                               as_index=False).sum()"
   ]
  },
  {
   "attachments": {},
   "cell_type": "markdown",
   "id": "7bd9af4a-9b2b-4aae-b7f2-a6e6e94c93c0",
   "metadata": {},
   "source": [
    "## 2.9 Total emissions for all manufacturing"
   ]
  },
  {
   "cell_type": "code",
   "execution_count": null,
   "id": "ed056fa0-ed1e-40aa-800d-3d0710214b29",
   "metadata": {},
   "outputs": [],
   "source": [
    "county_mf_2dig_totals_CO2e = county_mf_6dig_fuels_CO2e.groupby(\n",
    "    by=['FIPSTATE', 'FIPS', 'County', 'STATE'],\n",
    "    as_index=False).sum()\n",
    "county_mf_2dig_totals_CO2e['lbCO2e_log10'] = np.log10(\n",
    "    county_mf_2dig_totals_CO2e['lbCO2e'])"
   ]
  },
  {
   "attachments": {},
   "cell_type": "markdown",
   "id": "78390a90-ecd6-48f1-993b-2d85b37d235b",
   "metadata": {},
   "source": [
    "## 2.10 Group all emissions dataframes together in a dictionary"
   ]
  },
  {
   "cell_type": "code",
   "execution_count": null,
   "id": "89b6fc51-eaea-49ac-914b-6d8aaa868df8",
   "metadata": {},
   "outputs": [],
   "source": [
    "county_mf_CO2e_dict = {'6dig_fuels':  county_mf_6dig_fuels_CO2e,\n",
    "                       '6dig_scopes': county_mf_6dig_scopes_CO2e,\n",
    "                       '6dig_totals': county_mf_6dig_totals_CO2e,\n",
    "                       'agg_fuels':   pd.merge(county_mf_agg_fuels_CO2e,\n",
    "                                               NAICS_codebook,\n",
    "                                               how='left',\n",
    "                                               on='NAICS'),\n",
    "                       'agg_scopes':  pd.merge(county_mf_agg_scopes_CO2e,\n",
    "                                               NAICS_codebook,\n",
    "                                               how='left',\n",
    "                                               on='NAICS'),\n",
    "                       'agg_totals':  pd.merge(county_mf_agg_totals_CO2e,\n",
    "                                               NAICS_codebook,\n",
    "                                               how='left',\n",
    "                                               on='NAICS'),\n",
    "                       '2dig_fuels':  county_mf_2dig_fuels_CO2e,\n",
    "                       '2dig_scopes': county_mf_2dig_scopes_CO2e,\n",
    "                       '2dig_totals': county_mf_2dig_totals_CO2e}"
   ]
  },
  {
   "attachments": {},
   "cell_type": "markdown",
   "id": "94693ae7-c04f-4bca-9756-8043e0daf10d",
   "metadata": {
    "tags": []
   },
   "source": [
    "# 3 Manufacturing employment\n",
    "Need county-level employment figures for the manufacturing industry, ideally at 4-digit NAICS granularity or higher. QCEW data is largely redacted at the county-level at such high NAICS granularity, therefore should turn to LEHD data instead, which typically has higher diclosure. Before going ahead with the LEHD data however, should compare the national employment figure for each 4 digit manufacturing NAICS code with the total amount of disclosed county-level data present in LEHD to determine where there might be gaps in our employment dataset. We can get national employment figures from QCEW."
   ]
  },
  {
   "attachments": {},
   "cell_type": "markdown",
   "id": "58e7272a-654e-429d-ae72-2fa126cab1b3",
   "metadata": {},
   "source": [
    "## 3.1 QCEW Manufacturing employment data"
   ]
  },
  {
   "cell_type": "code",
   "execution_count": null,
   "id": "97aaf031-cd96-4b26-8cb8-a510d1295d6d",
   "metadata": {
    "tags": []
   },
   "outputs": [],
   "source": [
    "## Run QCEW_data to define function getAnnualCountyIndustryData() needed to extract QCEW data\n",
    "%run ../../empData/Scripts/QCEW_data.ipynb\n",
    "\n",
    "## Total 2016 manufacturing employment, as given by QCEW (Note: need to use 31_33 instead of 31-33)\n",
    "total_US_mf_emp = getAnnualCountyIndustryData(\n",
    "  '2016',\n",
    "  '31_33', \n",
    "  print_results = False,\n",
    "  return_total_US_emp = True\n",
    ")\n",
    "print('Total 2016 manufacturing employment (QCEW):', total_US_mf_emp)\n",
    "\n",
    "## Use QCEW script to get total manufacturing employment per county\n",
    "qcew_county_2dig = getAnnualCountyIndustryData('2016', '31_33')\n",
    "qcew_county_2dig = qcew_county_2dig[qcew_county_2dig['disclosure_code'] != 'N'].rename(\n",
    "    columns = {'area_fips': 'FIPS', 'annual_avg_emplvl': 'Emp'})"
   ]
  },
  {
   "attachments": {},
   "cell_type": "markdown",
   "id": "7ccefbb9-c523-46b1-9951-ac38e99450b3",
   "metadata": {},
   "source": [
    "## 3.2 LEHD data\n",
    "Pull both 3-digit and 2-digit LEHD data."
   ]
  },
  {
   "attachments": {},
   "cell_type": "markdown",
   "id": "bfc2cb58-2494-468c-b6db-7a442f5fad50",
   "metadata": {},
   "source": [
    "### 3.2.1 3-digit"
   ]
  },
  {
   "cell_type": "code",
   "execution_count": null,
   "id": "c4075432",
   "metadata": {},
   "outputs": [],
   "source": [
    "# Run LEHD API pull script to call function that pulls LEHD employment data\n",
    "%run ../../empData/Scripts/LEHD_API_pull.ipynb\n",
    "\n",
    "# Run API pull, or read from CSV\n",
    "# lehd_3dig_mf_2016 = getLEHDemp('2016', '3', '31-33', write_to_csv = True)\n",
    "lehd_3dig_mf_2016 = pd.read_csv(\n",
    "    '../../empData/Temp/emp_ovr_31-33_3dig_2016.csv',\n",
    "    dtype={'state': str, 'county': str, 'FIPS': str, 'sex': str, 'year': str, 'industry': str}\n",
    ").rename(\n",
    "    columns={'industry': 'NAICS'}\n",
    ").drop(columns=['Unnamed: 0'])"
   ]
  },
  {
   "attachments": {},
   "cell_type": "markdown",
   "id": "9b56fc67-9991-4ed1-b70e-0ed6679e7880",
   "metadata": {},
   "source": [
    "### 3.2.2 2-digit"
   ]
  },
  {
   "cell_type": "code",
   "execution_count": null,
   "id": "202afaaf",
   "metadata": {},
   "outputs": [],
   "source": [
    "# Run API pull, or read from CSV\n",
    "# lehd_2dig_mf_2016 = getLEHDemp('2016', '2', '31-33', write_to_csv = True)\n",
    "lehd_2dig_mf_2016 = pd.read_csv(\n",
    "    '../../empData/Temp/emp_ovr_31-33_2dig_2016.csv',\n",
    "    dtype={'state': str, 'county': str, 'FIPS': str, 'sex': str, 'year': str, 'industry': str}\n",
    ").rename(\n",
    "    columns={'industry': 'NAICS'}\n",
    ").drop(columns=['Unnamed: 0'])"
   ]
  },
  {
   "attachments": {},
   "cell_type": "markdown",
   "id": "90fd64fe-ab8a-4b4a-9a34-7a10b7899588",
   "metadata": {
    "tags": []
   },
   "source": [
    "# 4 Compute emissions per capita and per employee"
   ]
  },
  {
   "attachments": {},
   "cell_type": "markdown",
   "id": "8d42145e-1fd0-4dd1-aa52-1be6315014b6",
   "metadata": {
    "tags": []
   },
   "source": [
    "## 4.1 Emissions per capita"
   ]
  },
  {
   "attachments": {},
   "cell_type": "markdown",
   "id": "89229f9c-baf1-4b0c-ad15-6b4bd7ef65ac",
   "metadata": {},
   "source": [
    "For non-census years, the U.S. Census Bureau's Population Estimates Program uses a cohort-component method to estimate the change in county-level population by tallying recorded births, deaths and migrations since the last population estimate and using them to derive a new county-level estimate. More details here https://www.census.gov/data/datasets/time-series/demo/popest/2010s-counties-total.html, documentation here: https://www2.census.gov/programs-surveys/popest/technical-documentation/methodology/2010-2019/natstcopr-methv2.pdf.<br>\n",
    "This data can be accessed via the Census Data API. An API pull script has been constructed in another notebook ('CensusBureauPopEstimates.ipynb'), and will be called here to extract the population data."
   ]
  },
  {
   "cell_type": "code",
   "execution_count": null,
   "id": "a70bb3e5-7948-4cb9-a9ba-f069d2276484",
   "metadata": {},
   "outputs": [],
   "source": [
    "## Run CensusBureauPopEstimates.ipynb to define function get_pop_estimate() needed to extract Census Population Estimates for a given year data\n",
    "%run ../../empData/Scripts/CensusBureauPopEstimates.ipynb\n",
    "\n",
    "## Use get_pop_estimate() function to extract 2016 population estimates for each county\n",
    "county_pop_2016 = get_pop_estimate(2016, 'county')\n",
    "county_pop_2016['FIPS'] = county_pop_2016['state'] + county_pop_2016['county']\n",
    "\n",
    "## Merge population estimates onto emissions dataframes and calculate emissions per capita\n",
    "county_mf_CO2e_percapita_dict = county_mf_CO2e_dict.copy()\n",
    "\n",
    "for df in county_mf_CO2e_percapita_dict.keys():\n",
    "    # Merge \n",
    "    county_mf_CO2e_percapita_dict[df] = pd.merge(\n",
    "        county_mf_CO2e_percapita_dict[df], \n",
    "        county_pop_2016[['FIPS', 'POP']], \n",
    "        how = 'left',\n",
    "          on = 'FIPS')\n",
    "    \n",
    "    # Calculate emissions per capita\n",
    "    county_mf_CO2e_percapita_dict[df]['tonCO2e_percapita'] = county_mf_CO2e_percapita_dict[df]['tonCO2e'] / county_mf_CO2e_percapita_dict[df]['POP']\n",
    "    county_mf_CO2e_percapita_dict[df]['lbCO2e_percapita'] = county_mf_CO2e_percapita_dict[df]['lbCO2e'] / county_mf_CO2e_percapita_dict[df]['POP']\n",
    "    \n",
    "    # Calculate log10 of this\n",
    "    county_mf_CO2e_percapita_dict[df]['tonCO2e_percapita_log10'] = np.log10(county_mf_CO2e_percapita_dict[df]['tonCO2e_percapita'])\n",
    "    county_mf_CO2e_percapita_dict[df]['lbCO2e_percapita_log10'] = np.log10(county_mf_CO2e_percapita_dict[df]['lbCO2e_percapita'])"
   ]
  },
  {
   "attachments": {},
   "cell_type": "markdown",
   "id": "742ef659-0876-4712-a822-802fac1366f6",
   "metadata": {
    "tags": []
   },
   "source": [
    "## 4.2 Emissions per employee\n",
    "Need to first aggregate energy consumption and emissions data to the 4- and 3-digit levels outlined in 1.2.2. Then, can merge the employment data onto this emissions data to calculate emissions per employee."
   ]
  },
  {
   "attachments": {},
   "cell_type": "markdown",
   "id": "960d622e-ae8a-48e7-8cfc-4c2ce3e4ff66",
   "metadata": {},
   "source": [
    "### 4.2.1 Emissions intensities for entire manufacturing sector"
   ]
  },
  {
   "attachments": {},
   "cell_type": "markdown",
   "id": "50f55e55-2e2b-4771-96bc-4711503def36",
   "metadata": {},
   "source": [
    "#### 4.2.1.1 Calculation\n",
    "For this calculation, merge both LEHD and QCEW employment data onto dataframe. Use LEHD data for final employment figure, unless this data is suppressed, in which case use QCEW."
   ]
  },
  {
   "cell_type": "code",
   "execution_count": null,
   "id": "0b96eb12-cdcf-42e9-af74-3f1a8ad06965",
   "metadata": {},
   "outputs": [],
   "source": [
    "# Set up dictionary for per employee data\n",
    "county_mf_CO2e_peremp_dict = {'agg_fuels': county_mf_CO2e_percapita_dict['agg_fuels'],\n",
    "                              'agg_scopes': county_mf_CO2e_percapita_dict['agg_scopes'],\n",
    "                              'agg_totals': county_mf_CO2e_percapita_dict['agg_totals'],\n",
    "                              '2dig_fuels': county_mf_CO2e_percapita_dict['2dig_fuels'],\n",
    "                              '2dig_scopes': county_mf_CO2e_percapita_dict['2dig_scopes'],\n",
    "                              '2dig_totals': county_mf_CO2e_percapita_dict['2dig_totals']}\n",
    "\n",
    "for key in list(county_mf_CO2e_peremp_dict.keys())[3:]:\n",
    "    # Merge LEHD data onto per employee data\n",
    "    county_mf_CO2e_peremp_dict[key] = pd.merge(\n",
    "        county_mf_CO2e_peremp_dict[key],\n",
    "        lehd_2dig_mf_2016.rename(columns={'Emp': 'LEHD_Emp'})[\n",
    "            ['FIPS', 'LEHD_Emp']],\n",
    "        how='left',\n",
    "        on='FIPS'\n",
    "    )\n",
    "    # Merge QCEW data onto per employee data\n",
    "    county_mf_CO2e_peremp_dict[key] = pd.merge(\n",
    "        county_mf_CO2e_peremp_dict[key],\n",
    "        qcew_county_2dig.rename(columns={'Emp': 'QCEW_Emp'}\n",
    "                                )[['FIPS', 'QCEW_Emp', 'total_annual_wages', 'annual_avg_estabs']],\n",
    "        how='left',\n",
    "        on='FIPS'\n",
    "    )\n",
    "    # Take QCEW data when LEHD data is NaN\n",
    "    county_mf_CO2e_peremp_dict[key]['Emp'] = county_mf_CO2e_peremp_dict[key].apply(\n",
    "        lambda x: x.LEHD_Emp if x.LEHD_Emp > 0 else x.QCEW_Emp, axis=1\n",
    "    )\n",
    "    county_mf_CO2e_peremp_dict[key] = county_mf_CO2e_peremp_dict[key].drop(\n",
    "        columns=['LEHD_Emp', 'QCEW_Emp'])\n",
    "\n",
    "    #  Compute average annual wages\n",
    "    county_mf_CO2e_peremp_dict[key]['avg_annual_wage_peremployee'] = county_mf_CO2e_peremp_dict[key]['total_annual_wages'] / \\\n",
    "        county_mf_CO2e_peremp_dict[key]['Emp']\n",
    "\n",
    "    # Calculate emissions per employee for all manufacturing per county (for counties with specified employment data)\n",
    "    #  Set employment in counties where it is reported to be 0 to NaN, as there must be employment there if there are emissions\n",
    "    county_mf_CO2e_peremp_dict[key]['Emp'] = county_mf_CO2e_peremp_dict[key].apply(\n",
    "        lambda x: np.nan if x.Emp == 0 else x.Emp, axis=1)\n",
    "\n",
    "    #  Calculate emissions per employee\n",
    "    county_mf_CO2e_peremp_dict[key]['tonCO2e_peremp'] = county_mf_CO2e_peremp_dict[key].apply(\n",
    "        lambda x: x.tonCO2e / x.Emp if x.Emp != np.nan else np.nan, axis=1)\n",
    "\n",
    "    #  Calculate log10 of this\n",
    "    county_mf_CO2e_peremp_dict[key]['tonCO2e_peremp_log10'] = county_mf_CO2e_peremp_dict[key].apply(\n",
    "        lambda x: np.log1p(x.tonCO2e_peremp) if x.Emp != np.nan else np.nan, axis=1)"
   ]
  },
  {
   "attachments": {},
   "cell_type": "markdown",
   "id": "f422a1d0-6b00-49ee-a0f9-9d6323c45375",
   "metadata": {},
   "source": [
    "### 4.2.2 Emissions intensities for NAICS subsectors\n",
    "For this calculation, use LEHD 3-digit data."
   ]
  },
  {
   "cell_type": "code",
   "execution_count": null,
   "id": "6505d775",
   "metadata": {},
   "outputs": [],
   "source": [
    "# Set up dummy variable to check whether the a datapoint was merged from LEHD or not after merge\n",
    "lehd_3dig_mf_2016['LEHD?'] = np.ones(len(lehd_3dig_mf_2016))\n",
    "\n",
    "# Merge employment data onto aggregated dataframe\n",
    "for key in list(county_mf_CO2e_peremp_dict.keys())[:3]:\n",
    "    county_mf_CO2e_peremp_dict[key] = pd.merge(\n",
    "        county_mf_CO2e_peremp_dict[key],\n",
    "        lehd_3dig_mf_2016[['NAICS', 'Emp', 'FIPS', 'LEHD?']],\n",
    "        how='left',\n",
    "        on=['FIPS', 'NAICS']\n",
    "    )\n",
    "\n",
    "    # Calculate emissions per employee for NAICS subsectors\n",
    "    # Treat emp values of zero as NaN\n",
    "    county_mf_CO2e_peremp_dict[key]['Emp'] = county_mf_CO2e_peremp_dict[key].apply(\n",
    "        lambda x: np.nan if x.Emp == 0 else x.Emp, axis=1)\n",
    "\n",
    "    # Calculate emissions per employee for non-NaN datapoints\n",
    "    county_mf_CO2e_peremp_dict[key]['tonCO2e_peremp'] = county_mf_CO2e_peremp_dict[key].apply(\n",
    "        lambda x: x.tonCO2e / x.Emp, axis=1)\n",
    "\n",
    "    # Calculate log10 of this for visualization\n",
    "    county_mf_CO2e_peremp_dict[key]['tonCO2e_peremp_log10'] = county_mf_CO2e_peremp_dict[key].apply(\n",
    "        lambda x: np.log1p(x.tonCO2e_peremp), axis=1)"
   ]
  },
  {
   "attachments": {},
   "cell_type": "markdown",
   "id": "96c3e031-7f94-435d-a579-202b45fb7ee7",
   "metadata": {},
   "source": [
    "# 5 Save final dataframe to csv for overall analysis"
   ]
  },
  {
   "cell_type": "code",
   "execution_count": null,
   "id": "6a2ddf6b-614c-48b7-bd1f-6c65627736a0",
   "metadata": {},
   "outputs": [],
   "source": [
    "for key in county_mf_CO2e_peremp_dict.keys():\n",
    "    county_mf_CO2e_peremp_dict[key].to_csv(f'../Output/mf_{key}_peremp_final.csv')\n",
    "    \n",
    "for key in county_mf_CO2e_percapita_dict.keys():\n",
    "    county_mf_CO2e_percapita_dict[key].to_csv(f'../Output/mf_{key}_percapita_final.csv')"
   ]
  }
 ],
 "metadata": {
  "kernelspec": {
   "display_name": "base",
   "language": "python",
   "name": "python3"
  },
  "language_info": {
   "codemirror_mode": {
    "name": "ipython",
    "version": 3
   },
   "file_extension": ".py",
   "mimetype": "text/x-python",
   "name": "python",
   "nbconvert_exporter": "python",
   "pygments_lexer": "ipython3",
   "version": "3.8.16"
  },
  "vscode": {
   "interpreter": {
    "hash": "b62c26efd9b7dc933240e6c8be0310d5618371abe44d01463caf7f4af3a99891"
   }
  }
 },
 "nbformat": 4,
 "nbformat_minor": 5
}
