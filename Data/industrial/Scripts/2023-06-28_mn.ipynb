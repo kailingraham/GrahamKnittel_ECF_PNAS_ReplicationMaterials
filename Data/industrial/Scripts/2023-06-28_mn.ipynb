{
 "cells": [
  {
   "attachments": {},
   "cell_type": "markdown",
   "id": "da9f0e1d-f314-4cbd-bb00-370c43f3f5fb",
   "metadata": {},
   "source": [
    "# 0 Set-up"
   ]
  },
  {
   "cell_type": "code",
   "execution_count": null,
   "id": "62dc295c-ad95-4b7c-8086-f2e852c934bd",
   "metadata": {},
   "outputs": [],
   "source": [
    "import pandas as pd\n",
    "import numpy as np\n",
    "import matplotlib.pyplot as plt\n",
    "import plotly.express as px\n",
    "\n",
    "# Load in a GeoJSON file containing the geometry information for US counties, where feature.id is a FIPS code.\n",
    "from urllib.request import urlopen\n",
    "import json\n",
    "with urlopen('https://raw.githubusercontent.com/plotly/datasets/master/geojson-counties-fips.json') as response:\n",
    "    counties = json.load(response)\n",
    "\n",
    "# Read in NREL IET dataset\n",
    "county_energy_estimates_IEDB = pd.read_csv(\n",
    "    '../Input/county_energy_estimates_IEDB.gzip',\n",
    "    dtype={'FIPSTATE': str, 'COUNTY_FIPS': str, 'MECS_FT': str, 'NAICS': str}\n",
    ")\n",
    "county_energy_estimates_IEDB['FIPSTATE'] = county_energy_estimates_IEDB['FIPSTATE'].apply(\n",
    "    lambda x: '0' + x[:-2] if len(x) == 3 else x[:-2])\n",
    "county_energy_estimates_IEDB['COUNTY_FIPS'] = county_energy_estimates_IEDB['COUNTY_FIPS'].apply(\n",
    "    lambda x: '0' + x[:-2] if len(x) == 6 else x[:-2])\n",
    "county_energy_estimates_IEDB = county_energy_estimates_IEDB.rename(columns={'COUNTY_FIPS': 'FIPS'})\n",
    "\n",
    "# Keep entries from the most recent year\n",
    "county_energy_estimates_IEDB = county_energy_estimates_IEDB[county_energy_estimates_IEDB['YEAR'] == 2016]\n",
    "\n",
    "# Read in county fips labels [NOTE: this file has been edited from that used in other code to ensure county names and their formatting match]\n",
    "fips = pd.read_csv(\n",
    "    '../Temp/fips_edited.csv',\n",
    "    encoding='windows-1252',\n",
    "    usecols=[1, 2, 3, 4],\n",
    "    names=['FIPS', 'County', 'State Name', 'State'],\n",
    "    dtype={'FIPS': str}\n",
    ")\n",
    "fips['County'] = fips['County'].str.lower()"
   ]
  },
  {
   "attachments": {},
   "cell_type": "markdown",
   "id": "b5fdaa75-2bce-4b99-8962-31f09be2c0a4",
   "metadata": {},
   "source": [
    "<b>Note:</b> For counties were 'FIPS' is '0', these counties likely account for offshore oil & gas extraction emissions. To account for these, allocate the emissions between coastal counties in a given state proportionally to their coastal area. Coastal counties in each state where 'FIPS' = 0:\n",
    "- Alabama: Baldwin (01003), Mobile (01097)\n",
    "- California: Santa Barbara (06083), Ventura (06111)\n",
    "- Louisiana: Cameron (22023), Vermilion (22113), Iberia (22045), Saint Mary (22101), Terrebonne (22109), LaFourche (22057), Plaquemines (22075)\n",
    "- Texas: Matagorda (48321), Jefferson (48245), Brazoria (48039), Galveston (48167), Aransas (48007)"
   ]
  },
  {
   "cell_type": "code",
   "execution_count": null,
   "id": "0f136928-a7c5-44c9-8412-37e577978d9a",
   "metadata": {},
   "outputs": [],
   "source": [
    "# Write counties to alter to excel, manually split the energy consumption between counties, then re-read in excel file and add it to the dataframe.\n",
    "mining_altered = pd.read_excel('../Temp/mining_altered.xlsx',\n",
    "                               dtype={'FIPSTATE': str, 'FIPS': str, 'NAICS': str}\n",
    "                               ).drop(columns=['Unnamed: 0', 'MMBTU_TOTAL'])\n",
    "mining_altered = mining_altered.rename(columns={'MMBTU_TOTAL_NEW': 'MMBTU_TOTAL'})\n",
    "\n",
    "# Remove old offshore counties, and concatenate the altered data onto the original dataframe\n",
    "county_energy_estimates_IEDB = county_energy_estimates_IEDB[county_energy_estimates_IEDB['FIPS'] != '0']\n",
    "county_energy_estimates_IEDB = pd.concat([county_energy_estimates_IEDB, mining_altered])\n",
    "\n",
    "# Read in NAICS codebook from https://www.census.gov/naics/?48967 (use 2012 codes as data is from 2016)\n",
    "NAICS_codebook = pd.read_excel('../Input/2-digit_2012_Codes.xls', header=0,\n",
    "                               usecols=[1, 2], dtype={'2012 NAICS US   Code': str})\n",
    "NAICS_codebook = NAICS_codebook.drop(0).rename(\n",
    "    columns={'2012 NAICS US   Code': 'NAICS', '2012 NAICS US Title': 'NAICS_desc'})\n",
    "\n",
    "# Merge county names onto dataframe\n",
    "county_energy_estimates_IEDB = pd.merge(\n",
    "    county_energy_estimates_IEDB, fips[['FIPS', 'County']], how='left', on='FIPS')\n",
    "\n",
    "# Replace FIPS 02270 Wade hampton (AK) with 02158 Kusilvak, and 46113 Shannon with 46102 Oglala lakota, according to July 2015 changes\n",
    "for i in np.arange(len(county_energy_estimates_IEDB)):\n",
    "    if county_energy_estimates_IEDB.loc[i, 'FIPS'] == '02270':\n",
    "        county_energy_estimates_IEDB.loc[i, 'FIPS'] = '02158'\n",
    "        county_energy_estimates_IEDB.loc[i, 'County'] = 'kusilvak'\n",
    "    elif county_energy_estimates_IEDB.loc[i, 'FIPS'] == '46113':\n",
    "        county_energy_estimates_IEDB.loc[i, 'FIPS'] = '46102'\n",
    "        county_energy_estimates_IEDB.loc[i, 'County'] = 'oglala lakota'\n",
    "    elif county_energy_estimates_IEDB.loc[i, 'FIPS'] == '46102':\n",
    "        county_energy_estimates_IEDB.loc[i, 'County'] = 'oglala lakota'"
   ]
  },
  {
   "cell_type": "code",
   "execution_count": null,
   "id": "5f4f2f72-e1a7-42b2-aa0f-d711e9f1171c",
   "metadata": {},
   "outputs": [],
   "source": [
    "# Assess duplication in data\n",
    "init_datapoints = len(county_energy_estimates_IEDB)\n",
    "print('There are', len(county_energy_estimates_IEDB[county_energy_estimates_IEDB[['FIPS', 'NAICS', 'MECS_FT']].duplicated()]),\n",
    "      'FIPS-NAICS-FUEL combos with more than 1 entry for MMBTU consumed. Need to group these.')\n",
    "\n",
    "# Group data\n",
    "county_energy_estimates_IEDB = county_energy_estimates_IEDB.groupby(by=[col for col in county_energy_estimates_IEDB.columns if col not in ['MMBTU_TOTAL']],\n",
    "                                                                    as_index=False, dropna=False).sum().reset_index(drop=True)\n",
    "final_datapoints = len(county_energy_estimates_IEDB)\n",
    "print('Duplicate datapoints removed:', init_datapoints - final_datapoints)\n",
    "\n",
    "# Reassess duplicates\n",
    "if len(county_energy_estimates_IEDB[county_energy_estimates_IEDB[['FIPS', 'NAICS', 'MECS_FT']].duplicated()]) == 0:\n",
    "    print('After grouping, there are no more duplicated datapoints. Proceed.')\n",
    "else:\n",
    "    print('After grouping, there are still', len(county_energy_estimates_IEDB[county_energy_estimates_IEDB[['FIPS', 'NAICS', 'MECS_FT']].duplicated()]),\n",
    "          'duplicated datapoints. Reassess.')"
   ]
  },
  {
   "cell_type": "code",
   "execution_count": null,
   "id": "57dbeff1-8c9f-4a9f-b8d9-12e9f8db0633",
   "metadata": {},
   "outputs": [],
   "source": [
    "# Assess these duplicated datapoints individually.\n",
    "county_energy_estimates_IEDB[county_energy_estimates_IEDB[[\n",
    "    'FIPS', 'NAICS', 'MECS_FT']].duplicated(keep=False)]"
   ]
  },
  {
   "attachments": {},
   "cell_type": "markdown",
   "id": "e173a182-5bcc-4b80-a731-8cc65b1ebbbc",
   "metadata": {},
   "source": [
    "It seems that there was some errors in the Mining datapoints where the wrong state was listed for a given FIPS. Manually overwrite these."
   ]
  },
  {
   "cell_type": "code",
   "execution_count": null,
   "id": "e0fb8ee8-7235-4a01-aa29-01a0a4e93547",
   "metadata": {},
   "outputs": [],
   "source": [
    "overwrite_indices = [320819, 320820, 502760, 855123]\n",
    "correct_states = ['TEXAS', 'TEXAS', 'TEXAS', 'PENNSYLVANIA']\n",
    "\n",
    "for i in range(len(overwrite_indices)):\n",
    "    county_energy_estimates_IEDB.loc[overwrite_indices[i],\n",
    "                                     'FIPSTATE'] = county_energy_estimates_IEDB.loc[overwrite_indices[i], 'FIPS'][:2]\n",
    "    county_energy_estimates_IEDB.loc[overwrite_indices[i], 'STATE'] = correct_states[i]\n",
    "\n",
    "county_energy_estimates_IEDB.loc[overwrite_indices, :]"
   ]
  },
  {
   "cell_type": "code",
   "execution_count": null,
   "id": "1070f16f-f4ab-4a59-8797-fbeed70082c5",
   "metadata": {},
   "outputs": [],
   "source": [
    "# Group data again\n",
    "county_energy_estimates_IEDB = county_energy_estimates_IEDB.groupby(by=[col for col in county_energy_estimates_IEDB.columns if col not in ['MMBTU_TOTAL']],\n",
    "                                                                    as_index=False).sum().reset_index(drop=True)\n",
    "print('Duplicate datapoints removed:', final_datapoints - len(county_energy_estimates_IEDB))\n",
    "\n",
    "# Reassess duplicates\n",
    "if len(county_energy_estimates_IEDB[county_energy_estimates_IEDB[['FIPS', 'NAICS', 'MECS_FT']].duplicated()]) == 0:\n",
    "    print('After grouping, there are no more duplicated datapoints. Proceed.')\n",
    "else:\n",
    "    print('After grouping, there are still', len(county_energy_estimates_IEDB[county_energy_estimates_IEDB[['FIPS', 'NAICS', 'MECS_FT']].duplicated()]),\n",
    "          'duplicated datapoints. Reassess.')"
   ]
  },
  {
   "cell_type": "code",
   "execution_count": null,
   "id": "7afd78c3-26cf-44aa-85b2-d2a2a70d7c43",
   "metadata": {},
   "outputs": [],
   "source": [
    "# Split data into industrial sectors covered\n",
    "county_IEDB_mf = county_energy_estimates_IEDB[county_energy_estimates_IEDB['IND_SECTOR'] == 'Manufacturing'].reset_index(\n",
    "    drop=True)\n",
    "county_IEDB_mining = county_energy_estimates_IEDB[county_energy_estimates_IEDB['IND_SECTOR'] == 'Mining'].reset_index(\n",
    "    drop=True)\n",
    "county_IEDB_agri = county_energy_estimates_IEDB[county_energy_estimates_IEDB['IND_SECTOR'] == 'Agriculture'].reset_index(\n",
    "    drop=True)\n",
    "county_IEDB_constr = county_energy_estimates_IEDB[county_energy_estimates_IEDB['IND_SECTOR'] == 'Construction'].reset_index(\n",
    "    drop=True)"
   ]
  },
  {
   "attachments": {},
   "cell_type": "markdown",
   "id": "1b5be09f-6494-43c4-a0ad-49f84717e24b",
   "metadata": {},
   "source": [
    "# 1 Mining energy consumption\n",
    "The IEDB has 6-digit NAICS granularity for all mining subsectors."
   ]
  },
  {
   "cell_type": "code",
   "execution_count": null,
   "id": "3d8879b8-646f-4448-962f-3945cd716d59",
   "metadata": {},
   "outputs": [],
   "source": [
    "# Determine the NAICS granularity of each entry\n",
    "county_IEDB_mining['NAICS_dig'] = county_IEDB_mining.apply(lambda x: len(x.NAICS), axis=1)\n",
    "\n",
    "# Aggregate to 3-digit granularity as well\n",
    "county_IEDB_mining['NAICS_3dig'] = county_IEDB_mining.apply(\n",
    "    lambda x: x.NAICS[:3] if x.NAICS_dig > 3 else x.NAICS, axis=1)\n",
    "county_IEDB_mining_3dig = county_IEDB_mining.groupby(\n",
    "    by=['FIPSTATE', 'FIPS', 'MECS_FT', 'YEAR', 'STATE', 'IND_SECTOR', 'NAICS_3dig'],\n",
    "    as_index=False\n",
    ").sum().drop(columns='NAICS_dig')\n",
    "\n",
    "# Aggregate to 4-digit granularity as well\n",
    "county_IEDB_mining['NAICS_4dig'] = county_IEDB_mining.apply(\n",
    "    lambda x: x.NAICS[:4] if x.NAICS_dig > 4 else x.NAICS, axis=1)\n",
    "county_IEDB_mining_4dig = county_IEDB_mining.groupby(\n",
    "    by=['FIPSTATE', 'FIPS', 'MECS_FT', 'YEAR', 'STATE', 'IND_SECTOR', 'NAICS_4dig'],\n",
    "    as_index=False\n",
    ").sum().drop(columns='NAICS_dig')\n",
    "\n",
    "# Aggregate to 5-digit granularity as well\n",
    "county_IEDB_mining['NAICS_5dig'] = county_IEDB_mining.apply(\n",
    "    lambda x: x.NAICS[:5] if x.NAICS_dig > 5 else x.NAICS, axis=1)\n",
    "county_IEDB_mining_5dig = county_IEDB_mining.groupby(\n",
    "    by=['FIPSTATE', 'FIPS', 'MECS_FT', 'YEAR', 'STATE', 'IND_SECTOR', 'NAICS_5dig'],\n",
    "    as_index=False\n",
    ").sum().drop(columns='NAICS_dig')\n",
    "\n",
    "county_IEDB_mining = county_IEDB_mining.drop(columns='NAICS_dig')"
   ]
  },
  {
   "attachments": {},
   "cell_type": "markdown",
   "id": "64302783-1436-41db-a34e-e7837647d266",
   "metadata": {
    "tags": []
   },
   "source": [
    "# 2 Calculate emissions from mining energy consumption\n",
    "Make sure to use 6-digit NAICS codes for calculation so that emissions can be aggregated later. At the end of this section, should have 9 dataframes:\n",
    "1. Dataframe of the CO2e emissions from a given fuel type for a given 6-digit NAICS code in a given county.\n",
    "2. Dataframe of the Scope 1 and 2 (i.e. on-site and electricity consumption) CO2e emissions for a given 6-digit NAICS code in a given county.\n",
    "3. Dataframe of the total CO2e emissions from a given 6-digit NAICS code in a given county.\n",
    "4. Dataframe of the CO2e emissions from a given fuel type for 3-/4-digit NAICS granularity--depending on 'sectors_to_aggregate'--for a given county.\n",
    "5. Dataframe of the Scope 1 and 2 CO2e emissions for 3-/4-digit NAICS granularity--depending on 'sectors_to_aggregate'--for a given county.\n",
    "6. Dataframe of the total CO2e emissions for 3-/4-digit NAICS granularity--depending on 'sectors_to_aggregate'--for a given county.\n",
    "7. Dataframe of the CO2e emissions from a given fuel type for all of agriculture (NAICS 31-33) in a given county.\n",
    "8. Dataframe of the Scope 1 and 2 CO2e emissions for all of agriculture in a given county.\n",
    "9. Dataframe of the total CO2e emissions for all agriculture in a given county.\n",
    "\n",
    "Calculations for dataframes 2-9 should be conducted using dataframe 1 to minimize error propagation.\n",
    "\n",
    "\n",
    "<b>Naming convention:</b> county_mn_[NAICS_GRANULARITY]_['fuels'/'scopes'/'totals]_CO2e .  E.g. For 6-digit Scope 1 and 2 emissions: county_mn_6dig_scopes_CO2e. For aggregated total emissions: county_mn_agg_totals_CO2e."
   ]
  },
  {
   "attachments": {},
   "cell_type": "markdown",
   "id": "ce78ddbb-9e49-4a91-b44a-73b4228d5347",
   "metadata": {},
   "source": [
    "## 2.1 Calculate emissions at highest granularity possible"
   ]
  },
  {
   "attachments": {},
   "cell_type": "markdown",
   "id": "118d492f-568a-4ef5-a166-dab6318f4188",
   "metadata": {},
   "source": [
    "IEDB gives energy consumption in MMBTU. Can use the following emissions factors to determine the associated CO2e emissions for each fuel type:\n",
    "- Oil (assumed crude oil): 74.47 million metric tons CO2 per quadrillion Btu (https://www.eia.gov/environment/emissions/co2_vol_mass.php - scroll to bottom and download \"Detailed factors\" Excel sheet)?????\n",
    "- Natural gas: 116.65 lbCO2e per MMBtu (https://www.eia.gov/environment/emissions/co2_vol_mass.php)\n",
    "- Coal: 211.87 lbCO2e per MMBtu (https://www.eia.gov/environment/emissions/co2_vol_mass.php)\n",
    "- Diesel: 163.45 lbCO2e per MMBtu (https://www.eia.gov/environment/emissions/co2_vol_mass.php)\n",
    "- LPG_NGL (interpret this as 'propane'): 138.63 lbCO2e per MMBtu (https://www.eia.gov/environment/emissions/co2_vol_mass.php)\n",
    "- Residual fuel oil: 165.55 lbCO2e per MMBtu (https://www.eia.gov/environment/emissions/co2_vol_mass.php)\n",
    "- Coke and breeze: Use 'Coke' under coals by type: 250.59 lbCO2e per MMBtu (https://www.eia.gov/environment/emissions/co2_vol_mass.php)\n",
    "- 'Other' - assume to be LPG as done in the NREL IET documentation (https://www.nrel.gov/docs/fy19osti/71990.pdf, pg. 14)\n",
    "- Net electricity: Use eGRID 2016 electricity carbon intensity at the eGRID subregion level (see 'countyElecIntensity.ipynb')"
   ]
  },
  {
   "cell_type": "code",
   "execution_count": null,
   "id": "bb9692a9-3af6-4575-8eca-c809b457c105",
   "metadata": {},
   "outputs": [],
   "source": [
    "# Read in electricity carbon intensity and merge onto energy consumption data\n",
    "counties_elec_intensity = pd.read_csv(\n",
    "    '../Temp/counties_elec_intensity.csv',\n",
    "    dtype={'id': str, 'STATE': str, 'COUNTY': str}\n",
    ").drop(columns='Unnamed: 0')\n",
    "counties_elec_intensity = counties_elec_intensity.rename(columns={'id': 'FIPS'})\n",
    "\n",
    "county_mn_6dig_fuels_CO2e = pd.merge(county_IEDB_mining,\n",
    "                                     counties_elec_intensity[['FIPS', 'SUBRGN', 'SRC2ERTA']],\n",
    "                                     how='left',\n",
    "                                     on='FIPS')\n",
    "county_mn_6dig_fuels_CO2e = county_mn_6dig_fuels_CO2e.rename(\n",
    "    columns={'SRC2ERTA': 'lbCO2e_perMWh_elec'})\n",
    "\n",
    "# Calculate emissions for each county-NAICS-fuel combo (i.e. each row) using the above emissions factors\n",
    "#  Define a dictionary containing all the remaining emissions intensities (aside from electricity)\n",
    "ef_dict = {'Diesel': 163.45,\n",
    "           'LPG_NGL': 138.63,\n",
    "           'Natural_gas': 116.65,\n",
    "           'Other': 138.63,\n",
    "           'Residual_fuel_oil': 165.55,\n",
    "           'Coal': 211.87,\n",
    "           'Coke_and_breeze': 250.59,\n",
    "           np.nan: np.nan\n",
    "           }\n",
    "#  Define a function that reads fuel type of each entry and performs the appropraite calculation\n",
    "\n",
    "\n",
    "def calculate_emissions(fuel_type, ef_dict, mmbtu_total, elec_ef):\n",
    "    if fuel_type == 'Net_electricity':\n",
    "        lbCO2e = mmbtu_total * elec_ef * 0.29307107  # MWh/MMBtu\n",
    "    else:\n",
    "        lbCO2e = mmbtu_total * ef_dict[fuel_type]\n",
    "    return lbCO2e\n",
    "\n",
    "\n",
    "#  Apply function across entire dataframe\n",
    "county_mn_6dig_fuels_CO2e['lbCO2e'] = county_mn_6dig_fuels_CO2e.apply(\n",
    "    lambda x: calculate_emissions(x.MECS_FT, ef_dict, x.MMBTU_TOTAL, x.lbCO2e_perMWh_elec), axis=1)\n",
    "county_mn_6dig_fuels_CO2e['tonCO2e'] = county_mn_6dig_fuels_CO2e['lbCO2e'] / 2000"
   ]
  },
  {
   "attachments": {},
   "cell_type": "markdown",
   "id": "0805f86d-1ccc-4acf-aac5-308f097f9a74",
   "metadata": {},
   "source": [
    "### 2.1.1 Add field for tonCO2e_[fueltype] for each fuel type\n",
    "This will allow us to determine the percent of the total emissions attributable to each fuel type, for all sorts of different aggregations that we perform later. This will be particularly useful for calculating the economic burden later on, as the incidence of a carbon tax will depend on the fuel used to produce the carbon."
   ]
  },
  {
   "cell_type": "code",
   "execution_count": null,
   "id": "9b92a154-a4f9-4486-adae-e8ae13b921cc",
   "metadata": {},
   "outputs": [],
   "source": [
    "# Make lists of columns to group by for different aggregations\n",
    "group_cols_6dig_totals = [col for col in county_mn_6dig_fuels_CO2e.columns\n",
    "                          if col not in ['YEAR', 'SUBRGN', 'lbCO2e_perMWh_elec', 'MECS_FT', 'IND_SECTOR',\n",
    "                                         'MMBTU_TOTAL', 'lbCO2e', 'tonCO2e']]\n",
    "group_cols_6dig_scopes = [\n",
    "    col for col in group_cols_6dig_totals if col not in ['MECS_FT']] + ['scope']\n",
    "group_cols_6dig_fuels = group_cols_6dig_totals + ['MECS_FT']\n",
    "\n",
    "group_cols_agg_fuels = [col for col in group_cols_6dig_fuels if col not in [\n",
    "    'NAICS_4dig', 'NAICS_3dig', 'NAICS_5dig']]\n",
    "group_cols_agg_scopes = [col for col in group_cols_6dig_scopes if col not in [\n",
    "    'NAICS_4dig', 'NAICS_3dig', 'NAICS_5dig']]\n",
    "group_cols_agg_totals = [col for col in group_cols_6dig_totals if col not in [\n",
    "    'NAICS_4dig', 'NAICS_3dig', 'NAICS_5dig']]\n",
    "\n",
    "group_cols_2dig_fuels = [col for col in group_cols_6dig_fuels if col not in [\n",
    "    'NAICS', 'NAICS_4dig', 'NAICS_3dig', 'NAICS_5dig']]\n",
    "group_cols_2dig_scopes = [col for col in group_cols_6dig_scopes if col not in [\n",
    "    'NAICS', 'NAICS_4dig', 'NAICS_3dig', 'NAICS_5dig']]\n",
    "group_cols_2dig_totals = [col for col in group_cols_6dig_totals if col not in [\n",
    "    'NAICS', 'NAICS_4dig', 'NAICS_3dig', 'NAICS_5dig']]\n",
    "\n",
    "# Create new column for emissions corresponding to ach fuel type\n",
    "for fuel in county_mn_6dig_fuels_CO2e.MECS_FT.unique():\n",
    "    county_mn_6dig_fuels_CO2e[f'tonCO2e_{fuel}'] = county_mn_6dig_fuels_CO2e.apply(\n",
    "        lambda x: x.tonCO2e if x.MECS_FT == fuel else np.nan, axis=1)\n",
    "\n",
    "# Drop unnecessary columns\n",
    "county_mn_6dig_fuels_CO2e = county_mn_6dig_fuels_CO2e.drop(columns=['YEAR', 'lbCO2e_perMWh_elec'])"
   ]
  },
  {
   "attachments": {},
   "cell_type": "markdown",
   "id": "b09a1f84-b683-417e-ab3f-fae1b45b88f0",
   "metadata": {},
   "source": [
    "## 2.2 Scope 1 and 2 emissions at 6-digit NAICS granularity"
   ]
  },
  {
   "cell_type": "code",
   "execution_count": null,
   "id": "f2e31fcb-6402-4774-9d39-108a7c20219e",
   "metadata": {},
   "outputs": [],
   "source": [
    "# Group emissions into Scope 1 and Scope 2\n",
    "#  Add scope column to diff fuel df\n",
    "county_mn_6dig_fuels_CO2e['scope'] = county_mn_6dig_fuels_CO2e.apply(\n",
    "    lambda x: 'scope2' if x.MECS_FT == 'Net_electricity' else 'scope1', axis=1)\n",
    "\n",
    "#  Group scopes dataframe by scope\n",
    "county_mn_6dig_scopes_CO2e = county_mn_6dig_fuels_CO2e.groupby(\n",
    "    by=group_cols_6dig_scopes, as_index=False).sum()"
   ]
  },
  {
   "attachments": {},
   "cell_type": "markdown",
   "id": "9602bcc3-25d1-4274-babe-e7a0979df306",
   "metadata": {},
   "source": [
    "## 2.3 Total emissions at 6-digit NAICS granularity"
   ]
  },
  {
   "cell_type": "code",
   "execution_count": null,
   "id": "60d5671a-f682-4123-b196-b6d21d7b278d",
   "metadata": {},
   "outputs": [],
   "source": [
    "county_mn_6dig_totals_CO2e = county_mn_6dig_fuels_CO2e.groupby(\n",
    "    by=group_cols_6dig_totals, as_index=False).sum()"
   ]
  },
  {
   "attachments": {},
   "cell_type": "markdown",
   "id": "ac3c811c-45b5-48d6-88f3-5990563052b9",
   "metadata": {},
   "source": [
    "## 2.4 Emissions for different fuel types at 3-/4-digit NAICS granularity"
   ]
  },
  {
   "cell_type": "code",
   "execution_count": null,
   "id": "a8a6c66a-3123-4bc0-8a1d-b7ffb84a6179",
   "metadata": {},
   "outputs": [],
   "source": [
    "county_mn_agg_fuels_CO2e = county_mn_6dig_fuels_CO2e.groupby(\n",
    "    by=['FIPSTATE', 'FIPS', 'STATE', 'County', 'NAICS_4dig', 'scope', 'MECS_FT'],\n",
    "    as_index=False\n",
    ").sum()\n",
    "county_mn_agg_fuels_CO2e = county_mn_agg_fuels_CO2e.rename(columns={'NAICS_4dig': 'NAICS'})"
   ]
  },
  {
   "attachments": {},
   "cell_type": "markdown",
   "id": "8e0285f7-433e-425a-b997-daa1de396145",
   "metadata": {},
   "source": [
    "## 2.5 Scope 1 and 2 emissions at 3-/4-digit NAICS granularity"
   ]
  },
  {
   "cell_type": "code",
   "execution_count": null,
   "id": "2ed32b84-9f95-4034-8d16-04aec0218913",
   "metadata": {},
   "outputs": [],
   "source": [
    "county_mn_agg_scopes_CO2e = county_mn_agg_fuels_CO2e.groupby(\n",
    "    by=group_cols_agg_scopes, as_index=False).sum()\n",
    "\n",
    "# write to csv for decomposition analysis\n",
    "county_mn_agg_scopes_CO2e.to_csv('../Temp/county_mn_agg_scopes_CO2e.csv')"
   ]
  },
  {
   "attachments": {},
   "cell_type": "markdown",
   "id": "e004dc8a-0c59-451f-af4d-e3bc0aeb9b7b",
   "metadata": {},
   "source": [
    "## 2.6 Total emissions at 3-/4-digit NAICS granularity"
   ]
  },
  {
   "cell_type": "code",
   "execution_count": null,
   "id": "3f67c032-770e-4726-8d85-62fdf91a5f40",
   "metadata": {},
   "outputs": [],
   "source": [
    "county_mn_agg_totals_CO2e = county_mn_agg_scopes_CO2e.groupby(\n",
    "    by=group_cols_agg_totals, as_index=False).sum()\n",
    "county_mn_agg_totals_CO2e['lbCO2e_log10'] = np.log10(county_mn_agg_totals_CO2e['lbCO2e'])\n",
    "county_mn_agg_totals_CO2e['tonCO2e_log10'] = np.log10(county_mn_agg_totals_CO2e['tonCO2e'])"
   ]
  },
  {
   "attachments": {},
   "cell_type": "markdown",
   "id": "ba7028ac-d138-4025-bbdb-02fb07802a9c",
   "metadata": {},
   "source": [
    "## 2.7 Emissions for different fuel types for all mining"
   ]
  },
  {
   "cell_type": "code",
   "execution_count": null,
   "id": "8b28a1b7-2875-4da7-b8bc-9215ce5551d4",
   "metadata": {},
   "outputs": [],
   "source": [
    "county_mn_2dig_fuels_CO2e = county_mn_6dig_fuels_CO2e.groupby(\n",
    "    by=group_cols_2dig_fuels, as_index=False).sum()"
   ]
  },
  {
   "attachments": {},
   "cell_type": "markdown",
   "id": "39305a25-cce0-43bd-bb02-f8d09a7c5df2",
   "metadata": {},
   "source": [
    "## 2.8 Scope 1 and 2 emissions for all mining"
   ]
  },
  {
   "cell_type": "code",
   "execution_count": null,
   "id": "5d623dee-027f-4eae-8283-59726e634a76",
   "metadata": {},
   "outputs": [],
   "source": [
    "county_mn_2dig_scopes_CO2e = county_mn_6dig_fuels_CO2e.groupby(\n",
    "    by=group_cols_2dig_scopes, as_index=False).sum()"
   ]
  },
  {
   "attachments": {},
   "cell_type": "markdown",
   "id": "419c7784-92c1-43ff-9869-a4dc94a43c83",
   "metadata": {},
   "source": [
    "## 2.9 Total emissions for all mining"
   ]
  },
  {
   "cell_type": "code",
   "execution_count": null,
   "id": "050036ce-1b8c-4b74-a9c0-f1a7f4a19303",
   "metadata": {},
   "outputs": [],
   "source": [
    "county_mn_2dig_totals_CO2e = county_mn_6dig_fuels_CO2e.groupby(\n",
    "    by=['FIPSTATE', 'FIPS', 'County', 'STATE'], as_index=False).sum()"
   ]
  },
  {
   "attachments": {},
   "cell_type": "markdown",
   "id": "9abd29c9-0798-49c9-9e9a-056644c0d604",
   "metadata": {},
   "source": [
    "## 2.10 Group all emissions dataframes together in a dictionary"
   ]
  },
  {
   "cell_type": "code",
   "execution_count": null,
   "id": "c85a0d88-a242-4be6-8290-0b1c2122ef5a",
   "metadata": {},
   "outputs": [],
   "source": [
    "county_mn_CO2e_dict = {'6dig_fuels':  county_mn_6dig_fuels_CO2e,\n",
    "                       '6dig_scopes': county_mn_6dig_scopes_CO2e,\n",
    "                       '6dig_totals': county_mn_6dig_totals_CO2e,\n",
    "                       'agg_fuels':   pd.merge(county_mn_agg_fuels_CO2e,\n",
    "                                               NAICS_codebook,\n",
    "                                               how='left',\n",
    "                                               on='NAICS'),\n",
    "                       'agg_scopes':  pd.merge(county_mn_agg_scopes_CO2e,\n",
    "                                               NAICS_codebook,\n",
    "                                               how='left',\n",
    "                                               on='NAICS'),\n",
    "                       'agg_totals':  pd.merge(county_mn_agg_totals_CO2e,\n",
    "                                               NAICS_codebook,\n",
    "                                               how='left',\n",
    "                                               on='NAICS'),\n",
    "                       '2dig_fuels':  county_mn_2dig_fuels_CO2e,\n",
    "                       '2dig_scopes': county_mn_2dig_scopes_CO2e,\n",
    "                       '2dig_totals': county_mn_2dig_totals_CO2e}"
   ]
  },
  {
   "attachments": {},
   "cell_type": "markdown",
   "id": "d81cbc10-ac68-4a2b-b339-fd8cf780c532",
   "metadata": {},
   "source": [
    "# 3 Mining Employment"
   ]
  },
  {
   "attachments": {},
   "cell_type": "markdown",
   "id": "278b3938-d91e-4c61-aaef-cf8c23501876",
   "metadata": {},
   "source": [
    "## 3.1 QCEW mining employment data"
   ]
  },
  {
   "cell_type": "code",
   "execution_count": null,
   "id": "dca6a47f-3082-4858-afc5-167c6ed526dc",
   "metadata": {},
   "outputs": [],
   "source": [
    "## Run QCEW_data to define function getAnnualCountyIndustryData() needed to extract QCEW data\n",
    "%run ../../empData/Scripts/QCEW_data.ipynb\n",
    "\n",
    "## Total 2016 mining employment employment, as given by QCEW\n",
    "total_US_mn_emp = getAnnualCountyIndustryData(\n",
    "    '2016', \n",
    "    '21', \n",
    "    print_results=False, \n",
    "    return_total_US_emp=True\n",
    "    )\n",
    "print('Total 2016 mining employment (QCEW):', total_US_mn_emp)\n",
    "\n",
    "## Use QCEW script to get total mining employment per county\n",
    "qcew_county_2dig = getAnnualCountyIndustryData('2016', '21')\n",
    "qcew_county_2dig = qcew_county_2dig[qcew_county_2dig['disclosure_code'] != 'N'].rename(\n",
    "    columns={'area_fips': 'FIPS', 'annual_avg_emplvl': 'Emp'})"
   ]
  },
  {
   "attachments": {},
   "cell_type": "markdown",
   "id": "d4eb53a2-da57-4e62-9dac-acce7589569b",
   "metadata": {},
   "source": [
    "## 3.2 LEHD Mining employment data\n",
    "Pull both 2- and 4-digit"
   ]
  },
  {
   "attachments": {},
   "cell_type": "markdown",
   "id": "80871126-6486-4c67-9232-47957109cbf0",
   "metadata": {
    "tags": []
   },
   "source": [
    "### 3.2.1 4-digit"
   ]
  },
  {
   "cell_type": "code",
   "execution_count": null,
   "id": "bcaadc9b-f3be-486c-bb5e-3a08e0f5151e",
   "metadata": {},
   "outputs": [],
   "source": [
    "## Run LEHD API pull script to call function that pulls LEHD employment data\n",
    "%run ../../empData/Scripts/LEHD_API_pull.ipynb\n",
    "\n",
    "## Run API pull, or read from CSV\n",
    "# lehd_4dig_mn_2016 = getLEHDemp('2016','4', '21', write_to_csv = True)\n",
    "lehd_4dig_mn_2016 = pd.read_csv(\n",
    "    '../../empData/Temp/emp_ovr_21_4dig_2016.csv', \n",
    "    dtype = {'state': str, 'county': str, 'FIPS': str, 'sex': str, 'year': str, 'industry': str}\n",
    ").rename(\n",
    "    columns={'industry': 'NAICS'}\n",
    ").drop(columns = ['Unnamed: 0'])"
   ]
  },
  {
   "attachments": {},
   "cell_type": "markdown",
   "id": "5d1a1e7b",
   "metadata": {},
   "source": [
    "### 3.2.2 2-digit"
   ]
  },
  {
   "cell_type": "code",
   "execution_count": null,
   "id": "2ee59292",
   "metadata": {},
   "outputs": [],
   "source": [
    "# Run API pull, or read from CSV\n",
    "# lehd_2dig_mn_2016 = getLEHDemp('2016','2', '21', write_to_csv = True)\n",
    "lehd_2dig_mn_2016 = pd.read_csv(\n",
    "    '../../empData/Temp/emp_ovr_21_2dig_2016.csv',\n",
    "    dtype={'state': str, 'county': str, 'FIPS': str, 'sex': str, 'year': str, 'industry': str}\n",
    ").drop(columns=['Unnamed: 0'])"
   ]
  },
  {
   "cell_type": "code",
   "execution_count": null,
   "id": "01ccac0a-661f-4875-8d25-abd22ff50b85",
   "metadata": {},
   "outputs": [],
   "source": [
    "# Understand overall coverage of LEHD data\n",
    "print('Total 4-digit 2016 mining employment disclosed at the county level in LEHD:',\n",
    "      np.round(lehd_4dig_mn_2016['Emp'].sum()))\n",
    "print('Difference between these reported values and total U.S. mining employment:',\n",
    "      total_US_mn_emp - np.round(lehd_4dig_mn_2016['Emp'].sum()))\n",
    "print('Coverage of total 2016 mining employment provided by LEHDs 4-digit data:',\n",
    "      np.round(lehd_4dig_mn_2016['Emp'].sum() / total_US_mn_emp * 100, 1), '%')"
   ]
  },
  {
   "attachments": {},
   "cell_type": "markdown",
   "id": "310ea5a0-cbe3-4af5-823f-7416f3a5e1b0",
   "metadata": {
    "tags": []
   },
   "source": [
    "# 4 Compute emissions per capita and per employee"
   ]
  },
  {
   "attachments": {},
   "cell_type": "markdown",
   "id": "a5875410-7a95-46c9-9cb0-12fee509eea3",
   "metadata": {
    "tags": []
   },
   "source": [
    "## 4.1 Emissions per capita"
   ]
  },
  {
   "attachments": {},
   "cell_type": "markdown",
   "id": "35103859-77ba-4f4a-b6a4-d1df0e49439c",
   "metadata": {},
   "source": [
    "For non-census years, the U.S. Census Bureau's Population Estimates Program uses a cohort-component method to estimate the change in county-level population by tallying recorded births, deaths and migrations since the last population estimate and using them to derive a new county-level estimate. More details here https://www.census.gov/data/datasets/time-series/demo/popest/2010s-counties-total.html, documentation here: https://www2.census.gov/programs-surveys/popest/technical-documentation/methodology/2010-2019/natstcopr-methv2.pdf.<br>\n",
    "This data can be accessed via the Census Data API. An API pull script has been constructed in another notebook ('CensusBureauPopEstimates.ipynb'), and will be called here to extract the population data."
   ]
  },
  {
   "cell_type": "code",
   "execution_count": null,
   "id": "60852ddf-8b36-4bf9-b51d-2e060b7363c5",
   "metadata": {},
   "outputs": [],
   "source": [
    "## Run CensusBureauPopEstimates.ipynb to define function get_pop_estimate() needed to extract Census Population Estimates for a given year data\n",
    "%run ../../empData/Scripts/CensusBureauPopEstimates.ipynb\n",
    "\n",
    "## Use get_pop_estimate() function to extract 2016 population estimates for each county\n",
    "county_pop_2016 = get_pop_estimate(2016, 'county')\n",
    "county_pop_2016['FIPS'] = county_pop_2016['state'] + county_pop_2016['county']\n",
    "\n",
    "## Merge population estimates onto emissions dataframes and calculate emissions per capita\n",
    "county_mn_CO2e_percapita_dict = county_mn_CO2e_dict.copy()\n",
    "\n",
    "for df in county_mn_CO2e_percapita_dict.keys():\n",
    "    # Merge \n",
    "    county_mn_CO2e_percapita_dict[df] = pd.merge(county_mn_CO2e_percapita_dict[df], county_pop_2016[['FIPS', 'POP']], how = 'left', on = 'FIPS')\n",
    "    \n",
    "    # Calculate emissions per capita\n",
    "    county_mn_CO2e_percapita_dict[df]['tonCO2e_percapita'] = county_mn_CO2e_percapita_dict[df]['tonCO2e'] / county_mn_CO2e_percapita_dict[df]['POP']\n",
    "    county_mn_CO2e_percapita_dict[df]['lbCO2e_percapita'] = county_mn_CO2e_percapita_dict[df]['lbCO2e'] / county_mn_CO2e_percapita_dict[df]['POP']\n",
    "    \n",
    "    # Calculate log10 of this\n",
    "    county_mn_CO2e_percapita_dict[df]['tonCO2e_percapita_log10'] = np.log10(county_mn_CO2e_percapita_dict[df]['tonCO2e_percapita'])\n",
    "    county_mn_CO2e_percapita_dict[df]['lbCO2e_percapita_log10'] = np.log10(county_mn_CO2e_percapita_dict[df]['lbCO2e_percapita'])"
   ]
  },
  {
   "attachments": {},
   "cell_type": "markdown",
   "id": "16f44f77-1c7e-484f-ac29-897af23b1ccb",
   "metadata": {
    "tags": []
   },
   "source": [
    "## 4.2 Emissions per employee\n",
    "Need to first aggregate energy consumption and emissions data to the 4- and 3-digit levels outlined in 1.2.2. Then, can merge the employment data onto this emissions data to calculate emissions per employee."
   ]
  },
  {
   "attachments": {},
   "cell_type": "markdown",
   "id": "5dab8fe2-9292-42b5-aafa-7ff26aa9e27a",
   "metadata": {},
   "source": [
    "### 4.2.1 Emissions intensities for entire mining sector"
   ]
  },
  {
   "attachments": {},
   "cell_type": "markdown",
   "id": "11235e4c-880f-4a1d-922a-a093fdc0d3db",
   "metadata": {},
   "source": [
    "#### 4.2.1.1 Calculation\n",
    "For this calculation, merge both LEHD and QCEW employment data onto dataframe. Use LEHD data for final employment figure, unless this data is suppressed, in which case use QCEW."
   ]
  },
  {
   "cell_type": "code",
   "execution_count": null,
   "id": "9dd6fe12-9c45-4cf5-8c98-0f04192b98c7",
   "metadata": {},
   "outputs": [],
   "source": [
    "# Set up dictionary for per employee data\n",
    "county_mn_CO2e_peremp_dict = {'agg_fuels': county_mn_CO2e_percapita_dict['agg_fuels'],\n",
    "                              'agg_scopes': county_mn_CO2e_percapita_dict['agg_scopes'],\n",
    "                              'agg_totals': county_mn_CO2e_percapita_dict['agg_totals'],\n",
    "                              '2dig_fuels': county_mn_CO2e_percapita_dict['2dig_fuels'],\n",
    "                              '2dig_scopes': county_mn_CO2e_percapita_dict['2dig_scopes'],\n",
    "                              '2dig_totals': county_mn_CO2e_percapita_dict['2dig_totals']}\n",
    "\n",
    "for key in list(county_mn_CO2e_peremp_dict.keys())[3:]:\n",
    "    # Merge LEHD data onto per employee data\n",
    "    county_mn_CO2e_peremp_dict[key] = pd.merge(\n",
    "        county_mn_CO2e_peremp_dict[key],\n",
    "        lehd_2dig_mn_2016.rename(columns={'Emp': 'LEHD_Emp'})[['FIPS', 'LEHD_Emp']],\n",
    "        how='left',\n",
    "        on='FIPS'\n",
    "    )\n",
    "    # Merge QCEW data onto per employee data\n",
    "    county_mn_CO2e_peremp_dict[key] = pd.merge(\n",
    "        county_mn_CO2e_peremp_dict[key],\n",
    "        qcew_county_2dig.rename(columns={'Emp': 'QCEW_Emp'})[\n",
    "            ['FIPS', 'QCEW_Emp', 'total_annual_wages', 'annual_avg_estabs']],\n",
    "        how='left',\n",
    "        on='FIPS'\n",
    "    )\n",
    "    # Take QCEW data when LEHD data is NaN\n",
    "    county_mn_CO2e_peremp_dict[key]['Emp'] = county_mn_CO2e_peremp_dict[key].apply(\n",
    "        lambda x: x.LEHD_Emp if x.LEHD_Emp > 0 else x.QCEW_Emp, axis=1\n",
    "    )\n",
    "    county_mn_CO2e_peremp_dict[key] = county_mn_CO2e_peremp_dict[key].drop(\n",
    "        columns=['LEHD_Emp', 'QCEW_Emp'])\n",
    "\n",
    "    #  Compute average annual wages\n",
    "    county_mn_CO2e_peremp_dict[key]['avg_annual_wage_peremployee'] = county_mn_CO2e_peremp_dict[key]['total_annual_wages'] / \\\n",
    "        county_mn_CO2e_peremp_dict[key]['Emp']\n",
    "\n",
    "    # Calculate emissions per employee for all mining per county (for counties with specified employment data)\n",
    "    #  Set employment in counties where it is reported to be 0 to NaN, as there must be employment there if there are emissions\n",
    "    county_mn_CO2e_peremp_dict[key]['Emp'] = county_mn_CO2e_peremp_dict[key].apply(\n",
    "        lambda x: np.nan if x.Emp == 0 else x.Emp, axis=1)\n",
    "\n",
    "    #  Calculate emissions per employee\n",
    "    county_mn_CO2e_peremp_dict[key]['tonCO2e_peremp'] = county_mn_CO2e_peremp_dict[key].apply(\n",
    "        lambda x: x.tonCO2e / x.Emp if x.Emp != np.nan else np.nan, axis=1)\n",
    "\n",
    "    #  Calculate log10 of this\n",
    "    county_mn_CO2e_peremp_dict[key]['tonCO2e_peremp_log10'] = county_mn_CO2e_peremp_dict[key].apply(\n",
    "        lambda x: np.log1p(x.tonCO2e_peremp) if x.Emp != np.nan else np.nan, axis=1)"
   ]
  },
  {
   "attachments": {},
   "cell_type": "markdown",
   "id": "e14de379-851d-426f-a9d2-5f3a1bee010e",
   "metadata": {},
   "source": [
    "### 4.2.2 Emissions intensities for NAICS subsectors"
   ]
  },
  {
   "cell_type": "code",
   "execution_count": null,
   "id": "e270dec8-11ea-4459-af24-3ccc3cb322c7",
   "metadata": {},
   "outputs": [],
   "source": [
    "# Merge employment data onto aggregated dataframes\n",
    "# Set up dummy variable to check whether the a datapoint was merged from LEHD or not after merge\n",
    "lehd_4dig_mn_2016['LEHD?'] = np.ones(len(lehd_4dig_mn_2016))\n",
    "\n",
    "# Merge employment data onto this aggregated dataframe\n",
    "for key in list(county_mn_CO2e_peremp_dict.keys())[:3]:\n",
    "    county_mn_CO2e_peremp_dict[key] = pd.merge(\n",
    "        county_mn_CO2e_peremp_dict[key],\n",
    "        lehd_4dig_mn_2016[['NAICS', 'Emp', 'FIPS', 'LEHD?']],\n",
    "        how='left',\n",
    "        on=['FIPS', 'NAICS']\n",
    "    )\n",
    "\n",
    "    # Calculate emissions per employee for NAICS subsectors\n",
    "    # Treat emp values of zero as NaN\n",
    "    county_mn_CO2e_peremp_dict[key]['Emp'] = county_mn_CO2e_peremp_dict[key].apply(\n",
    "        lambda x: np.nan if x.Emp == 0 else x.Emp, axis=1)\n",
    "\n",
    "    # Calculate emissions per employee for non-NaN datapoints\n",
    "    county_mn_CO2e_peremp_dict[key]['tonCO2e_peremp'] = county_mn_CO2e_peremp_dict[key].apply(\n",
    "        lambda x: x.tonCO2e / x.Emp, axis=1)\n",
    "\n",
    "    # Calculate log10 of this for visualization\n",
    "    county_mn_CO2e_peremp_dict[key]['tonCO2e_peremp_log10'] = county_mn_CO2e_peremp_dict[key].apply(\n",
    "        lambda x: np.log10(x.tonCO2e_peremp), axis=1)"
   ]
  },
  {
   "attachments": {},
   "cell_type": "markdown",
   "id": "0c8c3d18-f5ad-4ad9-a4d8-127ae815cbbe",
   "metadata": {},
   "source": [
    "# 5 Save final dataframe to csv for overall analysis"
   ]
  },
  {
   "cell_type": "code",
   "execution_count": null,
   "id": "a44fab80-bced-4af9-ace7-6e0dc012bb96",
   "metadata": {},
   "outputs": [],
   "source": [
    "for key in county_mn_CO2e_peremp_dict.keys():\n",
    "    county_mn_CO2e_peremp_dict[key].to_csv(f'../Output/mn_{key}_peremp_final.csv')\n",
    "    \n",
    "for key in county_mn_CO2e_percapita_dict.keys():\n",
    "    county_mn_CO2e_percapita_dict[key].to_csv(f'../Output/mn_{key}_percapita_final.csv')"
   ]
  },
  {
   "cell_type": "code",
   "execution_count": null,
   "id": "a94d8ef7",
   "metadata": {},
   "outputs": [],
   "source": []
  }
 ],
 "metadata": {
  "kernelspec": {
   "display_name": "base",
   "language": "python",
   "name": "python3"
  },
  "language_info": {
   "codemirror_mode": {
    "name": "ipython",
    "version": 3
   },
   "file_extension": ".py",
   "mimetype": "text/x-python",
   "name": "python",
   "nbconvert_exporter": "python",
   "pygments_lexer": "ipython3",
   "version": "3.8.16"
  },
  "vscode": {
   "interpreter": {
    "hash": "b62c26efd9b7dc933240e6c8be0310d5618371abe44d01463caf7f4af3a99891"
   }
  }
 },
 "nbformat": 4,
 "nbformat_minor": 5
}
