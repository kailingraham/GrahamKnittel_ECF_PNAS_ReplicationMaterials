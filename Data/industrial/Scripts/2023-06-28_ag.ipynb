{
 "cells": [
  {
   "attachments": {},
   "cell_type": "markdown",
   "id": "da9f0e1d-f314-4cbd-bb00-370c43f3f5fb",
   "metadata": {},
   "source": [
    "# 0 Set-up"
   ]
  },
  {
   "cell_type": "code",
   "execution_count": null,
   "id": "5274800e-c989-4e94-879d-e993016eb128",
   "metadata": {},
   "outputs": [],
   "source": [
    "import pandas as pd\n",
    "import numpy as np\n",
    "import matplotlib.pyplot as plt\n",
    "import plotly.express as px\n",
    "\n",
    "# Load in a GeoJSON file containing the geometry information for US counties, where feature.id is a FIPS code.\n",
    "from urllib.request import urlopen\n",
    "import json\n",
    "with urlopen('https://raw.githubusercontent.com/plotly/datasets/master/geojson-counties-fips.json') as response:\n",
    "    counties = json.load(response)\n",
    "\n",
    "# Read in NREL IET dataset\n",
    "county_energy_estimates_IEDB = pd.read_csv(\n",
    "    '../Input/county_energy_estimates_IEDB.gzip',\n",
    "    dtype={'FIPSTATE': str, 'COUNTY_FIPS': str, 'MECS_FT': str, 'NAICS': str})\n",
    "county_energy_estimates_IEDB['FIPSTATE'] = county_energy_estimates_IEDB['FIPSTATE'].apply(\n",
    "    lambda x: '0' + x[:-2] if len(x) == 3 else x[:-2])\n",
    "county_energy_estimates_IEDB['COUNTY_FIPS'] = county_energy_estimates_IEDB['COUNTY_FIPS'].apply(\n",
    "    lambda x: '0' + x[:-2] if len(x) == 6 else x[:-2])\n",
    "county_energy_estimates_IEDB = county_energy_estimates_IEDB.rename(columns={'COUNTY_FIPS': 'FIPS'})\n",
    "\n",
    "# Keep entries from the most recent year\n",
    "county_energy_estimates_IEDB = county_energy_estimates_IEDB[county_energy_estimates_IEDB['YEAR'] == 2016]\n",
    "\n",
    "# Read in county fips labels [NOTE: this file has been edited from that used in other code to ensure county names and their formatting match]\n",
    "fips = pd.read_csv(\n",
    "    '../Temp/fips_edited.csv',\n",
    "    encoding='windows-1252',\n",
    "    usecols=[1, 2, 3, 4],\n",
    "    names=['FIPS', 'County', 'State Name', 'State'],\n",
    "    dtype={'FIPS': str}\n",
    ")\n",
    "fips['County'] = fips['County'].str.lower()\n",
    "\n",
    "# Read in NAICS codebook from https://www.census.gov/naics/?48967 (use 2012 codes as data is from 2016)\n",
    "NAICS_codebook = pd.read_excel('../Input/2-digit_2012_Codes.xls',\n",
    "                               header=0,\n",
    "                               usecols=[1, 2],\n",
    "                               dtype={'2012 NAICS US   Code': str})\n",
    "NAICS_codebook = NAICS_codebook.drop(0).rename(\n",
    "    columns={'2012 NAICS US   Code': 'NAICS', '2012 NAICS US Title': 'NAICS_desc'})\n",
    "\n",
    "# Merge county names onto dataframe\n",
    "county_energy_estimates_IEDB = pd.merge(\n",
    "    county_energy_estimates_IEDB, fips[['FIPS', 'County']], how='left', on='FIPS')\n",
    "\n",
    "# Replace FIPS 02270 Wade hampton (AK) with 02158 Kusilvak, and 46113 Shannon with 46102 Oglala lakota, according to July 2015 changes\n",
    "for i in np.arange(len(county_energy_estimates_IEDB)):\n",
    "    if county_energy_estimates_IEDB.loc[i, 'FIPS'] == '02270':\n",
    "        county_energy_estimates_IEDB.loc[i, 'FIPS'] = '02158'\n",
    "        county_energy_estimates_IEDB.loc[i, 'County'] = 'kusilvak'\n",
    "    elif county_energy_estimates_IEDB.loc[i, 'FIPS'] == '46113':\n",
    "        county_energy_estimates_IEDB.loc[i, 'FIPS'] = '46102'\n",
    "        county_energy_estimates_IEDB.loc[i, 'County'] = 'oglala lakota'\n",
    "    elif county_energy_estimates_IEDB.loc[i, 'FIPS'] == '46102':\n",
    "        county_energy_estimates_IEDB.loc[i, 'County'] = 'oglala lakota'"
   ]
  },
  {
   "cell_type": "code",
   "execution_count": null,
   "id": "7c27fde8-aa0f-44df-97de-2a7359079f5e",
   "metadata": {},
   "outputs": [],
   "source": [
    "# Assess duplication in data\n",
    "init_datapoints = len(county_energy_estimates_IEDB)\n",
    "print('There are', len(county_energy_estimates_IEDB[county_energy_estimates_IEDB[['FIPS', 'NAICS', 'MECS_FT']].duplicated()]),\n",
    "      'FIPS-NAICS-FUEL combos with more than entry for MMBTU consumed. Need to group these.')\n",
    "\n",
    "# Group data\n",
    "county_energy_estimates_IEDB = county_energy_estimates_IEDB.groupby(by=[col for col in county_energy_estimates_IEDB.columns if col not in ['MMBTU_TOTAL']],\n",
    "                                                                    as_index=False).sum().reset_index(drop=True)\n",
    "final_datapoints = len(county_energy_estimates_IEDB)\n",
    "print('Duplicate datapoints removed:', init_datapoints - final_datapoints)\n",
    "\n",
    "# Reassess duplicates\n",
    "if len(county_energy_estimates_IEDB[county_energy_estimates_IEDB[['FIPS', 'NAICS', 'MECS_FT']].duplicated()]) == 0:\n",
    "    print('After grouping, there are no more duplicated datapoints. Proceed.')\n",
    "else:\n",
    "    print('After grouping, there are still', len(county_energy_estimates_IEDB[county_energy_estimates_IEDB[['FIPS', 'NAICS', 'MECS_FT']].duplicated()]),\n",
    "          'duplicated datapoints. Reassess.')"
   ]
  },
  {
   "cell_type": "code",
   "execution_count": null,
   "id": "4feb3e29-8097-45ff-a0cc-5ece6a06a31c",
   "metadata": {},
   "outputs": [],
   "source": [
    "# Assess these duplicated datapoints individually.\n",
    "county_energy_estimates_IEDB[county_energy_estimates_IEDB[[\n",
    "    'FIPS', 'NAICS', 'MECS_FT']].duplicated(keep=False)]"
   ]
  },
  {
   "attachments": {},
   "cell_type": "markdown",
   "id": "b54d162b-87c5-4d59-82de-181703685b0f",
   "metadata": {},
   "source": [
    "It seems that there was some errors in the Mining datapoints where the wrong state was listed for a given FIPS. Manually overwrite these."
   ]
  },
  {
   "cell_type": "code",
   "execution_count": null,
   "id": "856dabad-1080-4ee9-ac18-18d0272d8bcb",
   "metadata": {},
   "outputs": [],
   "source": [
    "overwrite_indices = [320348, 320349, 502288, 854619]\n",
    "correct_states = ['TEXAS', 'TEXAS', 'TEXAS', 'PENNSYLVANIA']\n",
    "\n",
    "for i in range(len(overwrite_indices)):\n",
    "    county_energy_estimates_IEDB.loc[overwrite_indices[i],\n",
    "                                     'FIPSTATE'] = county_energy_estimates_IEDB.loc[overwrite_indices[i], 'FIPS'][:2]\n",
    "    county_energy_estimates_IEDB.loc[overwrite_indices[i], 'STATE'] = correct_states[i]\n",
    "\n",
    "county_energy_estimates_IEDB.loc[overwrite_indices, :]"
   ]
  },
  {
   "cell_type": "code",
   "execution_count": null,
   "id": "5abd621d-044c-478a-8279-e0c3ea9e97ae",
   "metadata": {},
   "outputs": [],
   "source": [
    "# Group data again\n",
    "county_energy_estimates_IEDB = county_energy_estimates_IEDB.groupby(by=[col for col in county_energy_estimates_IEDB.columns if col not in ['MMBTU_TOTAL']],\n",
    "                                                                    as_index=False).sum().reset_index(drop=True)\n",
    "print('Duplicate datapoints removed:', final_datapoints - len(county_energy_estimates_IEDB))\n",
    "\n",
    "# Reassess duplicates\n",
    "if len(county_energy_estimates_IEDB[county_energy_estimates_IEDB[['FIPS', 'NAICS', 'MECS_FT']].duplicated()]) == 0:\n",
    "    print('After grouping, there are no more duplicated datapoints. Proceed.')\n",
    "else:\n",
    "    print('After grouping, there are still', len(county_energy_estimates_IEDB[county_energy_estimates_IEDB[['FIPS', 'NAICS', 'MECS_FT']].duplicated()]),\n",
    "          'duplicated datapoints. Reassess.')"
   ]
  },
  {
   "cell_type": "code",
   "execution_count": null,
   "id": "e5a72274-3e5c-4b56-aed1-16dc69b2da50",
   "metadata": {},
   "outputs": [],
   "source": [
    "# Ensure FIPSTATE code matches FIPS code for all entries\n",
    "county_energy_estimates_IEDB.FIPSTATE = county_energy_estimates_IEDB.apply(\n",
    "    lambda x: x.FIPS[:2], axis=1)\n",
    "\n",
    "# For FIPSTATE 34 -> 35 conversion, rename the STATE field manually\n",
    "county_energy_estimates_IEDB.STATE = county_energy_estimates_IEDB.apply(\n",
    "    lambda x: 'NEW MEXICO' if x.FIPSTATE == '35' else x.STATE, axis=1)\n",
    "\n",
    "# Split data into industrial sectors covered\n",
    "county_IEDB_mf = county_energy_estimates_IEDB[county_energy_estimates_IEDB['IND_SECTOR'] == 'Manufacturing'].reset_index(\n",
    "    drop=True)\n",
    "county_IEDB_mining = county_energy_estimates_IEDB[county_energy_estimates_IEDB['IND_SECTOR'] == 'Mining'].reset_index(\n",
    "    drop=True)\n",
    "county_IEDB_agri = county_energy_estimates_IEDB[county_energy_estimates_IEDB['IND_SECTOR'] == 'Agriculture'].reset_index(\n",
    "    drop=True)\n",
    "county_IEDB_constr = county_energy_estimates_IEDB[county_energy_estimates_IEDB['IND_SECTOR'] == 'Construction'].reset_index(\n",
    "    drop=True)"
   ]
  },
  {
   "attachments": {},
   "cell_type": "markdown",
   "id": "1b5be09f-6494-43c4-a0ad-49f84717e24b",
   "metadata": {},
   "source": [
    "# 1 Agriculture energy consumption"
   ]
  },
  {
   "cell_type": "code",
   "execution_count": null,
   "id": "3d8879b8-646f-4448-962f-3945cd716d59",
   "metadata": {},
   "outputs": [],
   "source": [
    "# ## Determine the NAICS granularity of each entry\n",
    "county_IEDB_agri['NAICS_dig'] = county_IEDB_agri.apply(lambda x: len(x.NAICS), axis=1)\n",
    "\n",
    "# For more granular entries, aggregate to 4-digit granularity\n",
    "county_IEDB_agri['NAICS_4dig'] = county_IEDB_agri.apply(\n",
    "    lambda x: x.NAICS[:4] if x.NAICS_dig > 4 else x.NAICS, axis=1)\n",
    "county_IEDB_agri_4dig = county_IEDB_agri.groupby(\n",
    "    by=['FIPSTATE', 'FIPS', 'MECS_FT', 'YEAR', 'STATE', 'IND_SECTOR', 'NAICS_4dig'], as_index=False).sum().drop(columns='NAICS_dig')\n",
    "\n",
    "# Aggregate to 3-digit granularity as well\n",
    "county_IEDB_agri['NAICS_3dig'] = county_IEDB_agri.apply(\n",
    "    lambda x: x.NAICS[:3] if x.NAICS_dig > 3 else x.NAICS, axis=1)\n",
    "county_IEDB_agri_3dig = county_IEDB_agri.groupby(\n",
    "    by=['FIPSTATE', 'FIPS', 'MECS_FT', 'YEAR', 'STATE', 'IND_SECTOR', 'NAICS_3dig'], as_index=False).sum().drop(columns='NAICS_dig')\n",
    "\n",
    "county_IEDB_agri = county_IEDB_agri.drop(columns='NAICS_dig')"
   ]
  },
  {
   "attachments": {},
   "cell_type": "markdown",
   "id": "64302783-1436-41db-a34e-e7837647d266",
   "metadata": {},
   "source": [
    "# 2 Calculate emissions from agricultural energy consumption\n",
    "Make sure to use 6-digit NAICS codes for calculation so that emissions can be aggregated later. At the end of this section, should have 9 dataframes:\n",
    "1. Dataframe of the CO2e emissions from a given fuel type for a given 6-digit NAICS code in a given county.\n",
    "2. Dataframe of the Scope 1 and 2 (i.e. on-site and electricity consumption) CO2e emissions for a given 6-digit NAICS code in a given county.\n",
    "3. Dataframe of the total CO2e emissions from a given 6-digit NAICS code in a given county.\n",
    "4. Dataframe of the CO2e emissions from a given fuel type for 3-/4-digit NAICS granularity--depending on 'sectors_to_aggregate'--for a given county.\n",
    "5. Dataframe of the Scope 1 and 2 CO2e emissions for 3-/4-digit NAICS granularity--depending on 'sectors_to_aggregate'--for a given county.\n",
    "6. Dataframe of the total CO2e emissions for 3-/4-digit NAICS granularity--depending on 'sectors_to_aggregate'--for a given county.\n",
    "7. Dataframe of the CO2e emissions from a given fuel type for all of agriculture (NAICS 31-33) in a given county.\n",
    "8. Dataframe of the Scope 1 and 2 CO2e emissions for all of agriculture in a given county.\n",
    "9. Dataframe of the total CO2e emissions for all agriculture in a given county.\n",
    "\n",
    "Calculations for dataframes 2-9 should be conducted using dataframe 1 to minimize error propagation.\n",
    "\n",
    "\n",
    "<b>Naming convention:</b> county_ag_[NAICS_GRANULARITY]_['fuels'/'scopes'/'totals]_CO2e .  E.g. For 6-digit Scope 1 and 2 emissions: county_ag_6dig_scopes_CO2e. For aggregated total emissions: county_ag_agg_totals_CO2e."
   ]
  },
  {
   "attachments": {},
   "cell_type": "markdown",
   "id": "ce78ddbb-9e49-4a91-b44a-73b4228d5347",
   "metadata": {},
   "source": [
    "## 2.1 Calculate emissions at highest granularity possible"
   ]
  },
  {
   "attachments": {},
   "cell_type": "markdown",
   "id": "118d492f-568a-4ef5-a166-dab6318f4188",
   "metadata": {},
   "source": [
    "IEDB gives energy consumption in MMBTU. Can use the following emissions factors to determine the associated CO2e emissions for each fuel type:\n",
    "- Oil (assumed crude oil): 74.47 million metric tons CO2 per quadrillion Btu (https://www.eia.gov/environment/emissions/co2_vol_mass.php - scroll to bottom and download \"Detailed factors\" Excel sheet)\n",
    "- Natural gas: 116.65 lbCO2e per MMBtu (https://www.eia.gov/environment/emissions/co2_vol_mass.php)\n",
    "- Coal: 211.87 lbCO2e per MMBtu (https://www.eia.gov/environment/emissions/co2_vol_mass.php)\n",
    "- Diesel: 163.45 lbCO2e per MMBtu (https://www.eia.gov/environment/emissions/co2_vol_mass.php)\n",
    "- LPG_NGL (interpret this as 'propane'): 138.63 lbCO2e per MMBtu (https://www.eia.gov/environment/emissions/co2_vol_mass.php)\n",
    "- Residual fuel oil: 165.55 lbCO2e per MMBtu (https://www.eia.gov/environment/emissions/co2_vol_mass.php)\n",
    "- Coke and breeze: Use 'Coke' under coals by type: 250.59 lbCO2e per MMBtu (https://www.eia.gov/environment/emissions/co2_vol_mass.php)\n",
    "- 'Other' - assume to be LPG as done in the NREL IET documentation (https://www.nrel.gov/docs/fy19osti/71990.pdf, pg. 14)\n",
    "- Net electricity: Use eGRID 2016 electricity carbon intensity at the eGRID subregion level (see 'countyElecIntensity.ipynb')"
   ]
  },
  {
   "cell_type": "code",
   "execution_count": null,
   "id": "bb9692a9-3af6-4575-8eca-c809b457c105",
   "metadata": {},
   "outputs": [],
   "source": [
    "# Read in electricity carbon intensity and merge onto agricultural energy consumption data\n",
    "counties_elec_intensity = pd.read_csv(\n",
    "    '../Temp/counties_elec_intensity.csv',\n",
    "    dtype={'id': str, 'STATE': str, 'COUNTY': str}\n",
    ").drop(columns='Unnamed: 0')\n",
    "counties_elec_intensity = counties_elec_intensity.rename(columns={'id': 'FIPS'})\n",
    "\n",
    "county_ag_6dig_fuels_CO2e = pd.merge(\n",
    "    county_IEDB_agri,\n",
    "    counties_elec_intensity[['FIPS', 'SUBRGN', 'SRC2ERTA']],\n",
    "    how='left',\n",
    "    on='FIPS'\n",
    ")\n",
    "county_ag_6dig_fuels_CO2e = county_ag_6dig_fuels_CO2e.rename(\n",
    "    columns={'SRC2ERTA': 'lbCO2e_perMWh_elec'})\n",
    "\n",
    "# Calculate emissions for each county-NAICS-fuel combo (i.e. each row) using the above emissions factors\n",
    "#  Define a dictionary containing all the remaining emissions intensities (aside from electricity)\n",
    "ef_dict = {'Diesel': 163.45,\n",
    "           'LPG_NGL': 138.63,\n",
    "           'Natural_gas': 116.65,\n",
    "           'Other': 138.63,\n",
    "           'Residual_fuel_oil': 165.55,\n",
    "           'Coal': 211.87,\n",
    "           'Coke_and_breeze': 250.59,\n",
    "           }\n",
    "#  Define a function that reads fuel type of each entry and performs the appropraite calculation\n",
    "def calculate_emissions(fuel_type, ef_dict, mmbtu_total, elec_ef):\n",
    "    if fuel_type == 'Net_electricity':\n",
    "        lbCO2e = mmbtu_total * elec_ef * 0.29307107  # MWh/MMBtu\n",
    "    else:\n",
    "        lbCO2e = mmbtu_total * ef_dict[fuel_type]\n",
    "    return lbCO2e\n",
    "\n",
    "\n",
    "#  Apply function across entire dataframe\n",
    "county_ag_6dig_fuels_CO2e['lbCO2e'] = county_ag_6dig_fuels_CO2e.apply(\n",
    "    lambda x: calculate_emissions(x.MECS_FT, ef_dict, x.MMBTU_TOTAL, x.lbCO2e_perMWh_elec), axis=1)\n",
    "county_ag_6dig_fuels_CO2e['tonCO2e'] = county_ag_6dig_fuels_CO2e['lbCO2e'] / 2000"
   ]
  },
  {
   "attachments": {},
   "cell_type": "markdown",
   "id": "0159b318-e62f-475b-a89c-971fad3306ea",
   "metadata": {},
   "source": [
    "### 2.1.1 Add field for tonCO2e_[fueltype] for each fuel type\n",
    "This will allow us to determine the percent of the total emissions attributable to each fuel type, for all sorts of different aggregations that we perform later. This will be particularly useful for calculating the economic burden later on, as the incidence of a carbon tax will depend on the fuel used to produce the carbon.\n"
   ]
  },
  {
   "cell_type": "code",
   "execution_count": null,
   "id": "c555caa5-3d50-4438-b786-70c748990b16",
   "metadata": {},
   "outputs": [],
   "source": [
    "# Make lists of columns to group by for different aggregations\n",
    "group_cols_6dig_totals = [col for col in county_ag_6dig_fuels_CO2e.columns if col not in ['YEAR', 'SUBRGN', 'lbCO2e_perMWh_elec', 'MECS_FT', 'IND_SECTOR',\n",
    "                                                                                          'MMBTU_TOTAL', 'lbCO2e', 'tonCO2e']]\n",
    "group_cols_6dig_scopes = [\n",
    "    col for col in group_cols_6dig_totals if col not in ['MECS_FT']] + ['scope']\n",
    "group_cols_6dig_fuels = group_cols_6dig_totals + ['MECS_FT']\n",
    "\n",
    "group_cols_agg_fuels = [\n",
    "    col for col in group_cols_6dig_fuels if col not in ['NAICS_4dig', 'NAICS_3dig']]\n",
    "group_cols_agg_scopes = [\n",
    "    col for col in group_cols_6dig_scopes if col not in ['NAICS_4dig', 'NAICS_3dig']]\n",
    "group_cols_agg_totals = [\n",
    "    col for col in group_cols_6dig_totals if col not in ['NAICS_4dig', 'NAICS_3dig']]\n",
    "\n",
    "group_cols_2dig_fuels = [col for col in group_cols_6dig_fuels if col not in [\n",
    "    'NAICS', 'NAICS_4dig', 'NAICS_3dig']]\n",
    "group_cols_2dig_scopes = [col for col in group_cols_6dig_scopes if col not in [\n",
    "    'NAICS', 'NAICS_4dig', 'NAICS_3dig']]\n",
    "group_cols_2dig_totals = [col for col in group_cols_6dig_totals if col not in [\n",
    "    'NAICS', 'NAICS_4dig', 'NAICS_3dig']]\n",
    "\n",
    "# Create new column for emissions corresponding to ach fuel type\n",
    "for fuel in county_ag_6dig_fuels_CO2e.MECS_FT.unique():\n",
    "    county_ag_6dig_fuels_CO2e[f'tonCO2e_{fuel}'] = county_ag_6dig_fuels_CO2e.apply(\n",
    "        lambda x: x.tonCO2e if x.MECS_FT == fuel else np.nan, axis=1)\n",
    "\n",
    "# Drop unnecessary columns\n",
    "county_ag_6dig_fuels_CO2e = county_ag_6dig_fuels_CO2e.drop(columns=['YEAR', 'lbCO2e_perMWh_elec'])"
   ]
  },
  {
   "attachments": {},
   "cell_type": "markdown",
   "id": "e25978b6-c5eb-4f8d-905d-3dfda7831119",
   "metadata": {},
   "source": [
    "## 2.2 Scope 1 and 2 emissions at 6-digit NAICS granularity"
   ]
  },
  {
   "cell_type": "code",
   "execution_count": null,
   "id": "b09328ac-641a-4c65-943e-933c72271d4e",
   "metadata": {},
   "outputs": [],
   "source": [
    "# Group emissions into Scope 1 and Scope 2\n",
    "#  Add scope column to diff fuel df\n",
    "county_ag_6dig_fuels_CO2e['scope'] = county_ag_6dig_fuels_CO2e.apply(\n",
    "    lambda x: 'scope2' if x.MECS_FT == 'Net_electricity' else 'scope1', axis=1)\n",
    "\n",
    "#  Group scopes dataframe by scope\n",
    "county_ag_6dig_scopes_CO2e = county_ag_6dig_fuels_CO2e.groupby(\n",
    "    by=group_cols_6dig_scopes, as_index=False).sum()"
   ]
  },
  {
   "attachments": {},
   "cell_type": "markdown",
   "id": "3a3c17c1-6e0e-4e44-b81f-e1d8067f77df",
   "metadata": {},
   "source": [
    "## 2.3 Total emissions at 6-digit NAICS granularity"
   ]
  },
  {
   "cell_type": "code",
   "execution_count": null,
   "id": "0370fd48-169e-444d-8a77-e19eb2ea0433",
   "metadata": {},
   "outputs": [],
   "source": [
    "county_ag_6dig_totals_CO2e = county_ag_6dig_fuels_CO2e.groupby(\n",
    "    by=group_cols_6dig_totals, as_index=False).sum()"
   ]
  },
  {
   "attachments": {},
   "cell_type": "markdown",
   "id": "02a453b6-28b1-49f5-baa7-20bd50234750",
   "metadata": {},
   "source": [
    "## 2.4 Emissions for different fuel types at 3-/4-digit NAICS granularity"
   ]
  },
  {
   "cell_type": "code",
   "execution_count": null,
   "id": "9cf9d7d0-3896-436f-b0b1-b5c1c9c26c30",
   "metadata": {},
   "outputs": [],
   "source": [
    "sectors_to_aggregate = list(county_ag_6dig_fuels_CO2e['NAICS_3dig'].unique())\n",
    "\n",
    "# Aggregate energy consumption and emissions to 4-digit NAICS code for the identified sectors\n",
    "county_ag_agg_fuels_CO2e = county_ag_6dig_fuels_CO2e.groupby(\n",
    "    by=['FIPSTATE', 'FIPS', 'STATE', 'County', 'MECS_FT', 'NAICS_4dig', 'scope'], as_index=False).sum().rename(columns={'NAICS_4dig': 'NAICS'})"
   ]
  },
  {
   "attachments": {},
   "cell_type": "markdown",
   "id": "c6dff738-c370-4618-91c4-59b65dade885",
   "metadata": {},
   "source": [
    "## 2.5 Scope 1 and 2 emissions at 3-/4-digit NAICS granularity"
   ]
  },
  {
   "cell_type": "code",
   "execution_count": null,
   "id": "cbbbc2de-ba35-4666-9abe-98320cdc37d1",
   "metadata": {},
   "outputs": [],
   "source": [
    "county_ag_agg_scopes_CO2e = county_ag_agg_fuels_CO2e.groupby(\n",
    "    by=group_cols_agg_scopes, as_index=False).sum()"
   ]
  },
  {
   "attachments": {},
   "cell_type": "markdown",
   "id": "67e98f51-792a-41a4-859b-a3635293132b",
   "metadata": {},
   "source": [
    "## 2.6 Total emissions at 3-/4-digit NAICS granularity"
   ]
  },
  {
   "cell_type": "code",
   "execution_count": null,
   "id": "c365bf52-bb1c-4934-88c4-6d85ecba573b",
   "metadata": {},
   "outputs": [],
   "source": [
    "county_ag_agg_totals_CO2e = county_ag_agg_scopes_CO2e.groupby(by = group_cols_agg_totals, as_index = False).sum()\n",
    "county_ag_agg_totals_CO2e['lbCO2e_log10'] = np.log10(county_ag_agg_totals_CO2e['lbCO2e'])\n",
    "county_ag_agg_totals_CO2e['tonCO2e_log10'] = np.log10(county_ag_agg_totals_CO2e['tonCO2e'])\n",
    "\n",
    "# write to csv for decomposition analysis\n",
    "county_ag_agg_scopes_CO2e.to_csv('../Temp/county_ag_agg_scopes_CO2e.csv')"
   ]
  },
  {
   "attachments": {},
   "cell_type": "markdown",
   "id": "e444ec22-7093-4d6f-bbfe-507048fdc1dc",
   "metadata": {},
   "source": [
    "## 2.7 Emissions for different fuel types for all agriculture"
   ]
  },
  {
   "cell_type": "code",
   "execution_count": null,
   "id": "9a42fba2-8ab0-402b-ab9c-8587f008b0d9",
   "metadata": {},
   "outputs": [],
   "source": [
    "county_ag_2dig_fuels_CO2e = county_ag_6dig_fuels_CO2e.groupby(\n",
    "    by=group_cols_2dig_fuels,\n",
    "    as_index=False\n",
    ").sum()"
   ]
  },
  {
   "attachments": {},
   "cell_type": "markdown",
   "id": "57c0213a-f00f-4ec5-8a94-c1156c47e54c",
   "metadata": {},
   "source": [
    "## 2.8 Scope 1 and 2 emissions for all agriculture"
   ]
  },
  {
   "cell_type": "code",
   "execution_count": null,
   "id": "2d3c0565-c570-4959-aeb8-ed3a0a75d6ab",
   "metadata": {},
   "outputs": [],
   "source": [
    "county_ag_2dig_scopes_CO2e = county_ag_6dig_fuels_CO2e.groupby(\n",
    "    by=group_cols_2dig_scopes, as_index=False).sum()"
   ]
  },
  {
   "attachments": {},
   "cell_type": "markdown",
   "id": "9f2cf5d7-8ad5-4951-8af6-a4af648b757b",
   "metadata": {},
   "source": [
    "## 2.9 Total emissions for all agriculture"
   ]
  },
  {
   "cell_type": "code",
   "execution_count": null,
   "id": "1ec2715b-fc79-4e4e-a66f-3caa68c4e580",
   "metadata": {},
   "outputs": [],
   "source": [
    "county_ag_2dig_totals_CO2e = county_ag_6dig_fuels_CO2e.groupby(\n",
    "    by=['FIPS', 'County', 'STATE'], as_index=False).sum()"
   ]
  },
  {
   "attachments": {},
   "cell_type": "markdown",
   "id": "9abd29c9-0798-49c9-9e9a-056644c0d604",
   "metadata": {},
   "source": [
    "## 2.10 Group all emissions dataframes together in a dictionary"
   ]
  },
  {
   "cell_type": "code",
   "execution_count": null,
   "id": "c85a0d88-a242-4be6-8290-0b1c2122ef5a",
   "metadata": {},
   "outputs": [],
   "source": [
    "county_ag_CO2e_dict = {'6dig_fuels':  county_ag_6dig_fuels_CO2e,\n",
    "                       '6dig_scopes': county_ag_6dig_scopes_CO2e,\n",
    "                       '6dig_totals': county_ag_6dig_totals_CO2e,\n",
    "                       'agg_fuels':   pd.merge(county_ag_agg_fuels_CO2e,\n",
    "                                               NAICS_codebook,\n",
    "                                               how='left',\n",
    "                                               on='NAICS'),\n",
    "                       'agg_scopes':  pd.merge(county_ag_agg_scopes_CO2e,\n",
    "                                               NAICS_codebook,\n",
    "                                               how='left',\n",
    "                                               on='NAICS'),\n",
    "                       'agg_totals':  pd.merge(county_ag_agg_totals_CO2e,\n",
    "                                               NAICS_codebook,\n",
    "                                               how='left',\n",
    "                                               on='NAICS'),\n",
    "                       '2dig_fuels':  county_ag_2dig_fuels_CO2e,\n",
    "                       '2dig_scopes': county_ag_2dig_scopes_CO2e,\n",
    "                       '2dig_totals': county_ag_2dig_totals_CO2e}"
   ]
  },
  {
   "attachments": {},
   "cell_type": "markdown",
   "id": "d81cbc10-ac68-4a2b-b339-fd8cf780c532",
   "metadata": {},
   "source": [
    "# 3 Agriculture Employment"
   ]
  },
  {
   "attachments": {},
   "cell_type": "markdown",
   "id": "278b3938-d91e-4c61-aaef-cf8c23501876",
   "metadata": {},
   "source": [
    "## 3.1 QCEW agriculture employment data"
   ]
  },
  {
   "cell_type": "code",
   "execution_count": null,
   "id": "dca6a47f-3082-4858-afc5-167c6ed526dc",
   "metadata": {},
   "outputs": [],
   "source": [
    "## Run QCEW_data to define function getAnnualCountyIndustryData() needed to extract QCEW data\n",
    "%run ../../empData/Scripts/QCEW_data.ipynb\n",
    "\n",
    "## Total 2016 agricultural employment employment, as given by QCEW\n",
    "total_US_ag_emp = getAnnualCountyIndustryData(\n",
    "    '2016', \n",
    "    '11', \n",
    "    print_results=False, \n",
    "    return_total_US_emp=True)\n",
    "print('Total 2016 agriculture employment (QCEW):', total_US_ag_emp)\n",
    "\n",
    "## Use QCEW script to get total agriculture employment per county\n",
    "qcew_county_2dig = getAnnualCountyIndustryData('2016', '11')\n",
    "qcew_county_2dig = qcew_county_2dig[qcew_county_2dig['disclosure_code'] != 'N'].rename(\n",
    "    columns = {'area_fips': 'FIPS', 'annual_avg_emplvl': 'Emp'})"
   ]
  },
  {
   "attachments": {},
   "cell_type": "markdown",
   "id": "d4eb53a2-da57-4e62-9dac-acce7589569b",
   "metadata": {},
   "source": [
    "## 3.2 LEHD agriculture employment data\n",
    "Pull both 3-digit and 2-digit LEHD data."
   ]
  },
  {
   "attachments": {},
   "cell_type": "markdown",
   "id": "df673f13-43d0-47fb-87b2-12d996abd23c",
   "metadata": {},
   "source": [
    "### 3.2.1 3-digit"
   ]
  },
  {
   "cell_type": "code",
   "execution_count": null,
   "id": "16b626e7",
   "metadata": {},
   "outputs": [],
   "source": [
    "# Run LEHD API pull script to call function that pulls LEHD employment data\n",
    "# %run ../../empData/Scripts/LEHD_API_pull.ipynb\n",
    "\n",
    "# Run API pull, or read from CSV\n",
    "# lehd_4dig_ag_2016 = getLEHDemp(\n",
    "#     '2016', '4', '11', write_to_csv = True\n",
    "# ).rename(columns={'industry': 'NAICS'})\n",
    "lehd_3dig_ag_2016 = pd.read_csv(\n",
    "    '../../empData/Temp/emp_ovr_11_3dig_2016.csv',\n",
    "    dtype={'state': str, 'county': str, 'FIPS': str, 'sex': str, 'year': str, 'industry': str}\n",
    ").rename(columns={'industry': 'NAICS'}\n",
    "         ).drop(columns=['Unnamed: 0'])"
   ]
  },
  {
   "attachments": {},
   "cell_type": "markdown",
   "id": "ed7cd93d",
   "metadata": {},
   "source": [
    "### 3.2.2 2-digit"
   ]
  },
  {
   "cell_type": "code",
   "execution_count": null,
   "id": "e674fb28",
   "metadata": {},
   "outputs": [],
   "source": [
    "# Run API pull, or read from CSV\n",
    "# lehd_2dig_ag_2016 = getLEHDemp('2016', '2', '11', write_to_csv = True)\n",
    "lehd_2dig_ag_2016 = pd.read_csv(\n",
    "    '../../empData/Temp/emp_ovr_11_2dig_2016.csv',\n",
    "    dtype={'state': str, 'county': str, 'FIPS': str, 'sex': str, 'year': str, 'industry': str}\n",
    ").rename(\n",
    "    columns={'industry': 'NAICS'}\n",
    ").drop(columns=['Unnamed: 0'])"
   ]
  },
  {
   "attachments": {},
   "cell_type": "markdown",
   "id": "310ea5a0-cbe3-4af5-823f-7416f3a5e1b0",
   "metadata": {
    "tags": []
   },
   "source": [
    "# 4 Compute emissions per capita and per employee"
   ]
  },
  {
   "attachments": {},
   "cell_type": "markdown",
   "id": "a5875410-7a95-46c9-9cb0-12fee509eea3",
   "metadata": {
    "tags": []
   },
   "source": [
    "## 4.1 Emissions per capita"
   ]
  },
  {
   "attachments": {},
   "cell_type": "markdown",
   "id": "35103859-77ba-4f4a-b6a4-d1df0e49439c",
   "metadata": {},
   "source": [
    "For non-census years, the U.S. Census Bureau's Population Estimates Program uses a cohort-component method to estimate the change in county-level population by tallying recorded births, deaths and migrations since the last population estimate and using them to derive a new county-level estimate. More details here https://www.census.gov/data/datasets/time-series/demo/popest/2010s-counties-total.html, documentation here: https://www2.census.gov/programs-surveys/popest/technical-documentation/methodology/2010-2019/natstcopr-methv2.pdf.<br>\n",
    "This data can be accessed via the Census Data API. An API pull script has been constructed in another notebook ('CensusBureauPopEstimates.ipynb'), and will be called here to extract the population data."
   ]
  },
  {
   "cell_type": "code",
   "execution_count": null,
   "id": "60852ddf-8b36-4bf9-b51d-2e060b7363c5",
   "metadata": {},
   "outputs": [],
   "source": [
    "## Run CensusBureauPopEstimates.ipynb to define function get_pop_estimate() needed to extract Census Population Estimates for a given year data\n",
    "%run ../../empData/Scripts/CensusBureauPopEstimates.ipynb\n",
    "\n",
    "## Use get_pop_estimate() function to extract 2016 population estimates for each county\n",
    "county_pop_2016 = get_pop_estimate(2016, 'county')\n",
    "county_pop_2016['FIPS'] = county_pop_2016['state'] + county_pop_2016['county']\n",
    "\n",
    "## Merge population estimates onto emissions dataframes and calculate emissions per capita\n",
    "county_ag_CO2e_percapita_dict = county_ag_CO2e_dict.copy()\n",
    "\n",
    "for df in county_ag_CO2e_percapita_dict.keys():\n",
    "    # Merge \n",
    "    county_ag_CO2e_percapita_dict[df] = pd.merge(county_ag_CO2e_percapita_dict[df], county_pop_2016[['FIPS', 'POP']], how = 'left', on = 'FIPS')\n",
    "    \n",
    "    # Calculate emissions per capita\n",
    "    county_ag_CO2e_percapita_dict[df]['tonCO2e_percapita'] = county_ag_CO2e_percapita_dict[df]['tonCO2e'] / county_ag_CO2e_percapita_dict[df]['POP']\n",
    "    county_ag_CO2e_percapita_dict[df]['lbCO2e_percapita'] = county_ag_CO2e_percapita_dict[df]['lbCO2e'] / county_ag_CO2e_percapita_dict[df]['POP']\n",
    "    \n",
    "    # Calculate log10 of this\n",
    "    county_ag_CO2e_percapita_dict[df]['tonCO2e_percapita_log10'] = np.log10(county_ag_CO2e_percapita_dict[df]['tonCO2e_percapita'])\n",
    "    county_ag_CO2e_percapita_dict[df]['lbCO2e_percapita_log10'] = np.log10(county_ag_CO2e_percapita_dict[df]['lbCO2e_percapita'])"
   ]
  },
  {
   "attachments": {},
   "cell_type": "markdown",
   "id": "16f44f77-1c7e-484f-ac29-897af23b1ccb",
   "metadata": {
    "tags": []
   },
   "source": [
    "## 4.2 Emissions per employee"
   ]
  },
  {
   "cell_type": "code",
   "execution_count": null,
   "id": "e46e5c7d-99b8-450e-a420-3278a7153509",
   "metadata": {},
   "outputs": [],
   "source": [
    "## Set up dictionary for per employee data\n",
    "county_ag_CO2e_peremp_dict = {'agg_fuels': county_ag_CO2e_percapita_dict['agg_fuels'], \n",
    "                              'agg_scopes': county_ag_CO2e_percapita_dict['agg_scopes'], \n",
    "                              'agg_totals': county_ag_CO2e_percapita_dict['agg_totals'],\n",
    "                              '2dig_fuels': county_ag_CO2e_percapita_dict['2dig_fuels'], \n",
    "                              '2dig_scopes': county_ag_CO2e_percapita_dict['2dig_scopes'], \n",
    "                              '2dig_totals': county_ag_CO2e_percapita_dict['2dig_totals']}"
   ]
  },
  {
   "attachments": {},
   "cell_type": "markdown",
   "id": "5dab8fe2-9292-42b5-aafa-7ff26aa9e27a",
   "metadata": {},
   "source": [
    "### 4.2.1 Emissions intensities for entire agriculture sector"
   ]
  },
  {
   "attachments": {},
   "cell_type": "markdown",
   "id": "11235e4c-880f-4a1d-922a-a093fdc0d3db",
   "metadata": {},
   "source": [
    "#### 4.2.1.1 Calculation"
   ]
  },
  {
   "cell_type": "code",
   "execution_count": null,
   "id": "1d57321a",
   "metadata": {},
   "outputs": [],
   "source": [
    "for key in list(county_ag_CO2e_peremp_dict.keys())[3:]:\n",
    "    # Merge LEHD data onto per employee data\n",
    "    county_ag_CO2e_peremp_dict[key] = pd.merge(\n",
    "        county_ag_CO2e_peremp_dict[key],\n",
    "        lehd_2dig_ag_2016.rename(columns={'Emp': 'LEHD_Emp'})[['FIPS', 'LEHD_Emp']],\n",
    "        how='left',\n",
    "        on='FIPS'\n",
    "    )\n",
    "    # Merge QCEW data onto per employee data\n",
    "    county_ag_CO2e_peremp_dict[key] = pd.merge(\n",
    "        county_ag_CO2e_peremp_dict[key],\n",
    "        qcew_county_2dig.rename(columns={'Emp': 'QCEW_Emp'})[\n",
    "            ['FIPS', 'QCEW_Emp', 'total_annual_wages', 'annual_avg_estabs']],\n",
    "        how='left',\n",
    "        on='FIPS'\n",
    "    )\n",
    "    # Take QCEW data when LEHD data is NaN\n",
    "    county_ag_CO2e_peremp_dict[key]['Emp'] = county_ag_CO2e_peremp_dict[key].apply(lambda x:\n",
    "                                                                                   x.LEHD_Emp if x.LEHD_Emp > 0 else x.QCEW_Emp, axis=1\n",
    "                                                                                   )\n",
    "    county_ag_CO2e_peremp_dict[key] = county_ag_CO2e_peremp_dict[key].drop(\n",
    "        columns=['LEHD_Emp', 'QCEW_Emp'])\n",
    "\n",
    "    #  Compute average annual wages\n",
    "    county_ag_CO2e_peremp_dict[key]['avg_annual_wage_peremployee'] = county_ag_CO2e_peremp_dict[key]['total_annual_wages'] / \\\n",
    "        county_ag_CO2e_peremp_dict[key]['Emp']\n",
    "\n",
    "    # Calculate emissions per employee for all agriculture per county (for counties with specified employment data)\n",
    "    #  Set employment in counties where it is reported to be 0 to NaN, as there must be employment there if there are emissions\n",
    "    county_ag_CO2e_peremp_dict[key]['Emp'] = county_ag_CO2e_peremp_dict[key].apply(\n",
    "        lambda x: np.nan if x.Emp == 0 else x.Emp, axis=1)\n",
    "\n",
    "    #  Calculate emissions per employee\n",
    "    county_ag_CO2e_peremp_dict[key]['tonCO2e_peremp'] = county_ag_CO2e_peremp_dict[key].apply(\n",
    "        lambda x: x.tonCO2e / x.Emp if x.Emp != np.nan else np.nan, axis=1)\n",
    "\n",
    "    #  Calculate log10 of this\n",
    "    county_ag_CO2e_peremp_dict[key]['tonCO2e_peremp_log10'] = county_ag_CO2e_peremp_dict[key].apply(\n",
    "        lambda x: np.log1p(x.tonCO2e_peremp) if x.Emp != np.nan else np.nan, axis=1)"
   ]
  },
  {
   "attachments": {},
   "cell_type": "markdown",
   "id": "e14de379-851d-426f-a9d2-5f3a1bee010e",
   "metadata": {},
   "source": [
    "### 4.2.2 Emissions intensities for NAICS subsectors"
   ]
  },
  {
   "cell_type": "code",
   "execution_count": null,
   "id": "25b3cb99",
   "metadata": {},
   "outputs": [],
   "source": [
    "# Set up dummy variable to check whether the a datapoint was merged from LEHD or not after merge\n",
    "lehd_3dig_ag_2016['LEHD?'] = np.ones(len(lehd_3dig_ag_2016))\n",
    "\n",
    "# Merge employment data onto aggregated dataframe\n",
    "for key in list(county_ag_CO2e_peremp_dict.keys())[:3]:\n",
    "    county_ag_CO2e_peremp_dict[key] = pd.merge(\n",
    "        county_ag_CO2e_peremp_dict[key],\n",
    "        lehd_3dig_ag_2016[['NAICS', 'Emp', 'FIPS', 'LEHD?']],\n",
    "        how='left',\n",
    "        on=['FIPS', 'NAICS']\n",
    "    )\n",
    "\n",
    "    # Calculate emissions per employee for NAICS subsectors\n",
    "    # Treat emp values of zero as NaN\n",
    "    county_ag_CO2e_peremp_dict[key]['Emp'] = county_ag_CO2e_peremp_dict[key].apply(\n",
    "        lambda x: np.nan if x.Emp == 0 else x.Emp, axis=1)\n",
    "\n",
    "    # Calculate emissions per employee for non-NaN datapoints\n",
    "    county_ag_CO2e_peremp_dict[key]['tonCO2e_peremp'] = county_ag_CO2e_peremp_dict[key].apply(\n",
    "        lambda x: x.tonCO2e / x.Emp, axis=1)\n",
    "\n",
    "    # Calculate log10 of this for visualization\n",
    "    county_ag_CO2e_peremp_dict[key]['tonCO2e_peremp_log10'] = county_ag_CO2e_peremp_dict[key].apply(\n",
    "        lambda x: np.log10(x.tonCO2e_peremp), axis=1)"
   ]
  },
  {
   "attachments": {},
   "cell_type": "markdown",
   "id": "b7da0495-f6b3-4864-bf39-53ff339cb084",
   "metadata": {},
   "source": [
    "# 5 Save final dataframe to csv for overall analysis"
   ]
  },
  {
   "cell_type": "code",
   "execution_count": null,
   "id": "847edf81-ea5e-4101-8ef2-825138dbde55",
   "metadata": {},
   "outputs": [],
   "source": [
    "for key in county_ag_CO2e_peremp_dict.keys():\n",
    "    county_ag_CO2e_peremp_dict[key].to_csv(f'../Output/ag_{key}_peremp_final.csv')\n",
    "    \n",
    "for key in county_ag_CO2e_percapita_dict.keys():\n",
    "    county_ag_CO2e_percapita_dict[key].to_csv(f'../Output/ag_{key}_percapita_final.csv')"
   ]
  }
 ],
 "metadata": {
  "kernelspec": {
   "display_name": "base",
   "language": "python",
   "name": "python3"
  },
  "language_info": {
   "codemirror_mode": {
    "name": "ipython",
    "version": 3
   },
   "file_extension": ".py",
   "mimetype": "text/x-python",
   "name": "python",
   "nbconvert_exporter": "python",
   "pygments_lexer": "ipython3",
   "version": "3.8.16"
  },
  "vscode": {
   "interpreter": {
    "hash": "b62c26efd9b7dc933240e6c8be0310d5618371abe44d01463caf7f4af3a99891"
   }
  }
 },
 "nbformat": 4,
 "nbformat_minor": 5
}
